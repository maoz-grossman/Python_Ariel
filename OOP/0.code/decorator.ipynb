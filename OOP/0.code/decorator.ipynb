{
 "metadata": {
  "language_info": {
   "codemirror_mode": {
    "name": "ipython",
    "version": 3
   },
   "file_extension": ".py",
   "mimetype": "text/x-python",
   "name": "python",
   "nbconvert_exporter": "python",
   "pygments_lexer": "ipython3",
   "version": "3.6.6-final"
  },
  "orig_nbformat": 2,
  "kernelspec": {
   "name": "python3",
   "display_name": "Python 3",
   "language": "python"
  }
 },
 "nbformat": 4,
 "nbformat_minor": 2,
 "cells": [
  {
   "cell_type": "code",
   "execution_count": 12,
   "metadata": {},
   "outputs": [
    {
     "output_type": "stream",
     "name": "stdout",
     "text": [
      "6\n<class 'function'>\n"
     ]
    }
   ],
   "source": [
    "def high_ord_func(x: int , func: func) -> int:\n",
    "    return func(x)+x\n",
    "\n",
    "func = lambda a : a**2 \n",
    "print(high_ord_func(2, func)) \n",
    "print(type(func))\n"
   ]
  },
  {
   "cell_type": "code",
   "execution_count": 6,
   "metadata": {},
   "outputs": [
    {
     "output_type": "stream",
     "name": "stdout",
     "text": [
      "I'm in the inner function\n"
     ]
    }
   ],
   "source": [
    "def out_f():\n",
    "    def in_f():\n",
    "        print(\"I'm in the inner function\")\n",
    "    return in_f\n",
    "\n",
    "f = out_f()\n",
    "f()\n",
    "\n"
   ]
  },
  {
   "cell_type": "code",
   "execution_count": 19,
   "metadata": {},
   "outputs": [],
   "source": [
    "def outer_function(func: func):\n",
    "    def wrapper():\n",
    "        print(\"started\")\n",
    "        func()\n",
    "        print(\"ended\")\n",
    "    return wrapper\n",
    "\n",
    "def a_function():\n",
    "    print(\"I'm a function\")\n",
    "\n"
   ]
  },
  {
   "cell_type": "code",
   "execution_count": 27,
   "metadata": {},
   "outputs": [
    {
     "output_type": "stream",
     "name": "stdout",
     "text": [
      "first way:outer_function(a_function)() \nstarted\nI'm a function\nended\n\nsecond way: variable \nstarted\nI'm a function\nended\n"
     ]
    }
   ],
   "source": [
    "print(\"first way:outer_function(a_function)() \")\n",
    "outer_function(a_function)()\n",
    "print(\"\\nsecond way: variable \")\n",
    "f_wrapper = outer_function(a_function)\n",
    "f_wrapper()"
   ]
  },
  {
   "cell_type": "code",
   "execution_count": 28,
   "metadata": {},
   "outputs": [
    {
     "output_type": "stream",
     "name": "stdout",
     "text": [
      "started\nI'm a function\nended\n"
     ]
    }
   ],
   "source": [
    "@outer_function\n",
    "def a_function():\n",
    "    print(\"I'm a function\")\n",
    "a_function()"
   ]
  },
  {
   "cell_type": "code",
   "execution_count": 32,
   "metadata": {},
   "outputs": [
    {
     "output_type": "error",
     "ename": "TypeError",
     "evalue": "wrapper() takes 0 positional arguments but 1 was given",
     "traceback": [
      "\u001b[1;31m---------------------------------------------------------------------------\u001b[0m",
      "\u001b[1;31mTypeError\u001b[0m                                 Traceback (most recent call last)",
      "\u001b[1;32m<ipython-input-32-380132969f8b>\u001b[0m in \u001b[0;36m<module>\u001b[1;34m\u001b[0m\n\u001b[0;32m      2\u001b[0m \u001b[1;32mdef\u001b[0m \u001b[0mparam_function\u001b[0m\u001b[1;33m(\u001b[0m\u001b[0mnum\u001b[0m\u001b[1;33m:\u001b[0m \u001b[0mint\u001b[0m\u001b[1;33m)\u001b[0m\u001b[1;33m:\u001b[0m\u001b[1;33m\u001b[0m\u001b[0m\n\u001b[0;32m      3\u001b[0m     \u001b[0mprint\u001b[0m\u001b[1;33m(\u001b[0m\u001b[1;34mf\"{num} is a number\"\u001b[0m\u001b[1;33m)\u001b[0m\u001b[1;33m\u001b[0m\u001b[0m\n\u001b[1;32m----> 4\u001b[1;33m \u001b[0mparam_function\u001b[0m\u001b[1;33m(\u001b[0m\u001b[1;36m3\u001b[0m\u001b[1;33m)\u001b[0m\u001b[1;33m\u001b[0m\u001b[0m\n\u001b[0m",
      "\u001b[1;31mTypeError\u001b[0m: wrapper() takes 0 positional arguments but 1 was given"
     ]
    }
   ],
   "source": [
    "@outer_function\n",
    "def param_function(num: int):\n",
    "    print(f\"{num} is a number\")\n",
    "param_function(3)"
   ]
  },
  {
   "cell_type": "code",
   "execution_count": 33,
   "metadata": {},
   "outputs": [
    {
     "output_type": "stream",
     "name": "stdout",
     "text": [
      "started\n3 is a number\nended\n"
     ]
    }
   ],
   "source": [
    "def outer_function(func: func):\n",
    "    def wrapper(*args , **kwargs):\n",
    "        print(\"started\")\n",
    "        func(*args, **kwargs)\n",
    "        print(\"ended\")\n",
    "    return wrapper\n",
    "\n",
    "@outer_function\n",
    "def param_function(num: int):\n",
    "    print(f\"{num} is a number\")\n",
    "param_function(3)\n"
   ]
  },
  {
   "cell_type": "code",
   "execution_count": null,
   "metadata": {},
   "outputs": [],
   "source": []
  }
 ]
}