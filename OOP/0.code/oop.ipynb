{
 "metadata": {
  "language_info": {
   "codemirror_mode": {
    "name": "ipython",
    "version": 3
   },
   "file_extension": ".py",
   "mimetype": "text/x-python",
   "name": "python",
   "nbconvert_exporter": "python",
   "pygments_lexer": "ipython3",
   "version": "3.6.6-final"
  },
  "orig_nbformat": 2,
  "kernelspec": {
   "name": "python3",
   "display_name": "Python 3",
   "language": "python"
  }
 },
 "nbformat": 4,
 "nbformat_minor": 2,
 "cells": [
  {
   "cell_type": "code",
   "execution_count": 1,
   "metadata": {},
   "outputs": [],
   "source": [
    "class MyClass:\n",
    "    pass"
   ]
  },
  {
   "cell_type": "code",
   "execution_count": 18,
   "metadata": {},
   "outputs": [
    {
     "output_type": "stream",
     "name": "stdout",
     "text": [
      "Kookoo species: Gallus gallus\nRexi species: Canis familiaris\n"
     ]
    }
   ],
   "source": [
    "class Dog:\n",
    "    #class attribute\n",
    "    species = \"Canis familiaris\"\n",
    "    def __init__(self, name, age, gender = 'male'):\n",
    "        self.name = name\n",
    "        self.age = age\n",
    "        self.gender = gender\n",
    "\n",
    "rexi = Dog(\"Rexi\", 3)\n",
    "kookoo = Dog(\"Kookoo\", 0.5)\n",
    "kookoo.species = \"Gallus gallus\"\n",
    "print(f\"Kookoo species: {kookoo.species}\")\n",
    "print(f\"Rexi species: {rexi.species}\")"
   ]
  },
  {
   "cell_type": "code",
   "execution_count": 26,
   "metadata": {},
   "outputs": [],
   "source": [
    "class Dog:\n",
    "    species = \"Canis familiaris\"\n",
    "\n",
    "    def __init__(self, name, age , gender='male'):\n",
    "        self.name = name\n",
    "        self.age = age\n",
    "        self.gender= gender\n",
    "\n",
    "    # Instance method\n",
    "    def description(self):\n",
    "        return f\"{self.name} is {self.age} years old\"\n",
    "\n",
    "    # Another instance method\n",
    "    def speak(self, sound):\n",
    "        return f\"{self.name} says: {sound}\""
   ]
  },
  {
   "cell_type": "code",
   "execution_count": 27,
   "metadata": {},
   "outputs": [
    {
     "output_type": "stream",
     "name": "stdout",
     "text": [
      "Rexi says: I'm a dog, I can't speak!\nRexi is 3 years old\n"
     ]
    }
   ],
   "source": [
    "rexi = Dog(\"Rexi\", 3)\n",
    "print(rexi.speak(\"I'm a dog, I can't speak!\"))\n",
    "print(rexi.description())"
   ]
  },
  {
   "cell_type": "code",
   "execution_count": 35,
   "metadata": {},
   "outputs": [
    {
     "output_type": "stream",
     "name": "stdout",
     "text": [
      "Experiment X species: Felis silvestris\nGuffy species: Canis familiaris\n"
     ]
    }
   ],
   "source": [
    "class Dog:\n",
    "    species = \"Canis familiaris\"\n",
    "\n",
    "    def __init__(self, name, age , gender='male'):\n",
    "        self.name = name\n",
    "        self.age = age\n",
    "        self.gender= gender\n",
    "    def mutation(cls, new_species):\n",
    "        cls.species = new_species\n",
    "\n",
    "\n",
    "catdog_mutation= Dog(\"Experiment X\",0.2,gender='unknown')\n",
    "catdog_mutation.mutation('Felis silvestris')\n",
    "guffy= Dog('Guffy',2)\n",
    "print(f\"Experiment X species: {catdog_mutation.species}\")\n",
    "print(f\"Guffy species: {guffy.species}\")"
   ]
  },
  {
   "cell_type": "code",
   "execution_count": 42,
   "metadata": {},
   "outputs": [
    {
     "output_type": "stream",
     "name": "stdout",
     "text": [
      ">:-) whahaha\nYou have infected all the dogs in the world!\nExperiment X species: Felis silvestris\nGuffy species: Felis silvestris\n"
     ]
    }
   ],
   "source": [
    "class Dog:\n",
    "    species = \"Canis familiaris\"\n",
    "\n",
    "    def __init__(self, name, age , gender='male'):\n",
    "        self.name = name\n",
    "        self.age = age\n",
    "        self.gender= gender\n",
    "    def mutation(cls, new_species):\n",
    "        cls.species = new_species\n",
    "    @classmethod\n",
    "    def contagious_mutation(cls, new_species):\n",
    "        cls.species = new_species\n",
    "        print('>:-) whahaha')\n",
    "        print('You have infected all the dogs in the world!')  \n",
    "\n",
    "guffy= Dog('Guffy',2)\n",
    "catdog_mutation= Dog(\"Experiment X\",0.2,gender='unknown')\n",
    "catdog_mutation.contagious_mutation('Felis silvestris')\n",
    "print(f\"Experiment X species: {catdog_mutation.species}\")\n",
    "print(f\"Guffy species: {guffy.species}\")"
   ]
  },
  {
   "cell_type": "code",
   "execution_count": 71,
   "metadata": {},
   "outputs": [],
   "source": [
    "class Maze:\n",
    "    @staticmethod\n",
    "    def get_predetermined_maze():\n",
    "        return  f\"\"\"\n",
    "            # # # # # # # # # # # # # # #\n",
    "            # S                     #   #\n",
    "            #         #             #   #\n",
    "            # # # #             #   #   #\n",
    "            #                   #   #   #\n",
    "            #               # # # # #   #\n",
    "            #                           #\n",
    "            #                           #\n",
    "            # # # # # #       # # # #   #\n",
    "            #                         E #\n",
    "            # # # # # # # # # # # # # # #\n",
    "        \"\"\"\n",
    "    @staticmethod\n",
    "    def maze_solver(maze:str)-> str:       \n",
    "        #TODO: implement maze solver using BFS\n",
    "        pass\n",
    "    \n",
    "    @staticmethod \n",
    "    def maze_generator()->str:\n",
    "        #TODO: implement the maze generator using prim \n",
    "        pass\n",
    "\n"
   ]
  },
  {
   "cell_type": "code",
   "execution_count": 72,
   "metadata": {},
   "outputs": [
    {
     "output_type": "stream",
     "name": "stdout",
     "text": [
      "\n            # # # # # # # # # # # # # # #\n            # S                     #   #\n            #         #             #   #\n            # # # #             #   #   #\n            #                   #   #   #\n            #               # # # # #   #\n            #                           #\n            #                           #\n            # # # # # #       # # # #   #\n            #                         E #\n            # # # # # # # # # # # # # # #\n        \n"
     ]
    }
   ],
   "source": [
    "print(Maze.get_predetermined_maze())"
   ]
  },
  {
   "cell_type": "code",
   "execution_count": 5,
   "metadata": {},
   "outputs": [
    {
     "output_type": "stream",
     "name": "stdout",
     "text": [
      "is volvo an instance of Car? True\nis volvo an instance of Vehicle? True\nis Vehicle a subclass of Car? False\nis Car a subclass of Vehicle? True\n"
     ]
    }
   ],
   "source": [
    "class Vehicle:\n",
    "    pass\n",
    " \n",
    "class Car(Vehicle):\n",
    "    pass\n",
    " \n",
    "\n",
    "volvo = Car()\n",
    "#isinstance\n",
    "print(f\"is volvo an instance of Car? {isinstance(volvo, Car)}\")\n",
    "print(f\"is volvo an instance of Vehicle? {isinstance(volvo, Vehicle)}\")\n",
    "\n",
    "#issubclass\n",
    "print(f\"is Vehicle a subclass of Car? {issubclass(Vehicle, Car)}\")\n",
    "print(f\"is Car a subclass of Vehicle? {issubclass(Car, Vehicle)}\")"
   ]
  },
  {
   "cell_type": "code",
   "execution_count": 16,
   "metadata": {},
   "outputs": [
    {
     "output_type": "execute_result",
     "data": {
      "text/plain": [
       "True"
      ]
     },
     "metadata": {},
     "execution_count": 16
    }
   ],
   "source": [
    " issubclass(int, object)"
   ]
  },
  {
   "cell_type": "code",
   "execution_count": 18,
   "metadata": {},
   "outputs": [],
   "source": [
    "class Country(): \n",
    "    def capital(self): \n",
    "        return \"{} is the the capital of {}\"\n",
    "   \n",
    "    def language(self): \n",
    "        return \"{} is the the language of {}\"\n",
    "   \n",
    "    def population(self): \n",
    "        pass"
   ]
  },
  {
   "cell_type": "code",
   "execution_count": 23,
   "metadata": {},
   "outputs": [],
   "source": [
    "class Usa(Country):\n",
    "    def capital(self): \n",
    "       return super().capital().format(\"Washington, D.C.\",\"USA\") \n",
    "   \n",
    "    def language(self): \n",
    "        return super().language().format(\"English\",\"USA\") \n",
    "   \n",
    "    def population(self): \n",
    "        return '~328,239,523'"
   ]
  },
  {
   "cell_type": "code",
   "execution_count": 26,
   "metadata": {},
   "outputs": [
    {
     "output_type": "stream",
     "name": "stdout",
     "text": [
      "USA:\nCapital: Washington, D.C. is the the capital of USA\nlanguage: English is the the language of USA\npopulation: ~328,239,523\n"
     ]
    }
   ],
   "source": [
    "usa= Usa()\n",
    "print(\"USA:\")\n",
    "print(f\"Capital: {usa.capital()}\")\n",
    "print(f\"language: {usa.language()}\")\n",
    "print(f\"population: {usa.population()}\")"
   ]
  },
  {
   "cell_type": "code",
   "execution_count": 69,
   "metadata": {},
   "outputs": [
    {
     "output_type": "stream",
     "name": "stdout",
     "text": [
      "My name is class A\n"
     ]
    }
   ],
   "source": [
    "class A:\n",
    "    def my_name(self):\n",
    "        print(\"My name is class A\")\n",
    "\n",
    "class B:\n",
    "    def my_name(self):\n",
    "        print(\"My name is class B\")\n",
    "\n",
    "\n",
    "\n",
    "class C(A,B):\n",
    "    pass\n",
    "\n",
    "c= C()\n",
    "c.my_name()"
   ]
  },
  {
   "cell_type": "code",
   "execution_count": 71,
   "metadata": {},
   "outputs": [
    {
     "output_type": "stream",
     "name": "stdout",
     "text": [
      "My name is class B\nMy name is class A\n"
     ]
    }
   ],
   "source": [
    "class C(A,B):\n",
    "    def my_name(self):\n",
    "        B.my_name(self)\n",
    "        A.my_name(self)\n",
    "\n",
    "C().my_name()"
   ]
  },
  {
   "cell_type": "code",
   "execution_count": 74,
   "metadata": {},
   "outputs": [
    {
     "output_type": "stream",
     "name": "stdout",
     "text": [
      "Horse:\nthe Horse is used for riding and freight and racing\n\nDonkey:\nthe Donkey is used for riding and freight ,did I tell that I'm a donkey?\n\nMule:\nthe Mule is used for riding and freight and racing ,did I tell that I'm a donkey?\n"
     ]
    }
   ],
   "source": [
    "class DomesticatedAnimel(object):\n",
    "    def use(self):\n",
    "        return \"the {} is used for {}\"\n",
    "    \n",
    "class Horse(DomesticatedAnimel):    \n",
    "    def use(self):\n",
    "        return super().use().format(self.__class__.__name__, \"riding and freight and racing\")\n",
    "\n",
    "class Donkey(DomesticatedAnimel):\n",
    "    def use(self):\n",
    "        use_str= super().use().format(self.__class__.__name__, \"riding and freight\")\n",
    "        use_str+=\" ,did I tell that I'm a donkey?\"\n",
    "        return use_str \n",
    "\n",
    "class Mule(Donkey,Horse):\n",
    "    pass\n",
    "\n",
    "print(\"Horse:\")\n",
    "print(Horse().use(),end='\\n\\n')\n",
    "print(\"Donkey:\")\n",
    "print(Donkey().use(),end='\\n\\n')\n",
    "print(\"Mule:\")\n",
    "muly= Mule()\n",
    "print(muly.use())"
   ]
  },
  {
   "cell_type": "code",
   "execution_count": 71,
   "metadata": {},
   "outputs": [
    {
     "output_type": "stream",
     "name": "stdout",
     "text": [
      "Mule:\nin Donkey\nin Horse\nin DomesticatedAnimel\nbye bye domesticated animal \nbye bye horse\nbye bye donkey\n\n the Mule is used for riding and freight and racing ,did I tell that I'm a donkey?\n"
     ]
    }
   ],
   "source": [
    "class DomesticatedAnimel(object):\n",
    "    def use(self):\n",
    "        print(\"in DomesticatedAnimel\")\n",
    "        print(\"bye bye domesticated animal \")\n",
    "        return \"the {} is used for {}\"\n",
    "    \n",
    "class Horse(DomesticatedAnimel):\n",
    "    def use(self):\n",
    "        print(\"in Horse\")\n",
    "        use_str= super().use().format(self.__class__.__name__,\"riding and freight and racing\")\n",
    "        print(\"bye bye horse\")\n",
    "        return use_str\n",
    "\n",
    "class Donkey(DomesticatedAnimel):\n",
    "    def use(self):\n",
    "        print(\"in Donkey\")\n",
    "        use_str= super().use().format(self.__class__.__name__, \"riding and freight\")\n",
    "        use_str+=\" ,did I tell that I'm a donkey?\"\n",
    "        print(\"bye bye donkey\")\n",
    "        return use_str \n",
    "\n",
    "class Mule(Donkey,Horse):\n",
    "    pass\n",
    "    \n",
    "\n",
    "print(\"Mule:\")\n",
    "muly= Mule()\n",
    "print('\\n',muly.use())"
   ]
  },
  {
   "cell_type": "code",
   "execution_count": 70,
   "metadata": {},
   "outputs": [
    {
     "output_type": "execute_result",
     "data": {
      "text/plain": [
       "(__main__.Mule,\n",
       " __main__.Donkey,\n",
       " __main__.Horse,\n",
       " __main__.DomesticatedAnimel,\n",
       " object)"
      ]
     },
     "metadata": {},
     "execution_count": 70
    }
   ],
   "source": [
    "Mule.__mro__"
   ]
  },
  {
   "cell_type": "code",
   "execution_count": 121,
   "metadata": {},
   "outputs": [],
   "source": [
    "class BallotBox:\n",
    "    def __init__(self, parties):\n",
    "        self.candidates = parties\n",
    "        self.voters = {}\n",
    "    \n",
    "    def add_a_vote(self, voter_id,candidate):\n",
    "        \"\"\"Adds new vote to the ballot box \"\"\"\n",
    "        if(not voter_id in self.voters) and self.candidates[candidate]!= None:\n",
    "            self.candidates[candidate] +=1\n",
    "            self.voters[voter_id] = True\n",
    "            print(\"Thank you for voting :-)\")\n",
    "        else : print(\"Voter has already voted >:-(\")\n",
    "    \n",
    "    def mina_zemach(self):\n",
    "        \"\"\"Shows the Election poll\"\"\"\n",
    "        print('\\nMina Zemach election poll:')\n",
    "        for key,value in self.candidates.items():\n",
    "            print(f\"The party '{key}' has {value:,} votes\")\n"
   ]
  },
  {
   "cell_type": "code",
   "execution_count": 122,
   "metadata": {},
   "outputs": [
    {
     "output_type": "stream",
     "name": "stdout",
     "text": [
      "\nMina Zemach election poll:\nThe party 'Bibi something' has 1,000,000 votes\nThe party 'To right' has 0 votes\nThe party 'The work' has 0 votes\nThe party 'Lapid something' has 0 votes\nThe party 'vigor' has 0 votes\n"
     ]
    }
   ],
   "source": [
    "parties= {\n",
    "    'Bibi something':0,\n",
    "    'To right':0,\n",
    "    'The work':0,\n",
    "    'Lapid something':0,\n",
    "    'vigor' : 0\n",
    "}\n",
    "ballot_box = BallotBox(parties)\n",
    "ballot_box.candidates['Bibi something'] =1000000\n",
    "ballot_box.mina_zemach()"
   ]
  },
  {
   "cell_type": "code",
   "execution_count": null,
   "metadata": {},
   "outputs": [],
   "source": []
  }
 ]
}