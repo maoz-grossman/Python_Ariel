{
 "metadata": {
  "language_info": {
   "codemirror_mode": {
    "name": "ipython",
    "version": 3
   },
   "file_extension": ".py",
   "mimetype": "text/x-python",
   "name": "python",
   "nbconvert_exporter": "python",
   "pygments_lexer": "ipython3",
   "version": "3.6.6-final"
  },
  "orig_nbformat": 2,
  "kernelspec": {
   "name": "python3",
   "display_name": "Python 3",
   "language": "python"
  }
 },
 "nbformat": 4,
 "nbformat_minor": 2,
 "cells": [
  {
   "cell_type": "code",
   "execution_count": 1,
   "metadata": {},
   "outputs": [],
   "source": [
    "class MyClass:\n",
    "    pass"
   ]
  },
  {
   "cell_type": "code",
   "execution_count": 18,
   "metadata": {},
   "outputs": [
    {
     "output_type": "stream",
     "name": "stdout",
     "text": [
      "Kookoo species: Gallus gallus\nRexi species: Canis familiaris\n"
     ]
    }
   ],
   "source": [
    "class Dog:\n",
    "    #class attribute\n",
    "    species = \"Canis familiaris\"\n",
    "    def __init__(self, name, age, gender = 'male'):\n",
    "        self.name = name\n",
    "        self.age = age\n",
    "        self.gender = gender\n",
    "\n",
    "rexi = Dog(\"Rexi\", 3)\n",
    "kookoo = Dog(\"Kookoo\", 0.5)\n",
    "kookoo.species = \"Gallus gallus\"\n",
    "print(f\"Kookoo species: {kookoo.species}\")\n",
    "print(f\"Rexi species: {rexi.species}\")"
   ]
  },
  {
   "cell_type": "code",
   "execution_count": 26,
   "metadata": {},
   "outputs": [],
   "source": [
    "class Dog:\n",
    "    species = \"Canis familiaris\"\n",
    "\n",
    "    def __init__(self, name, age , gender='male'):\n",
    "        self.name = name\n",
    "        self.age = age\n",
    "        self.gender= gender\n",
    "\n",
    "    # Instance method\n",
    "    def description(self):\n",
    "        return f\"{self.name} is {self.age} years old\"\n",
    "\n",
    "    # Another instance method\n",
    "    def speak(self, sound):\n",
    "        return f\"{self.name} says: {sound}\""
   ]
  },
  {
   "cell_type": "code",
   "execution_count": 27,
   "metadata": {},
   "outputs": [
    {
     "output_type": "stream",
     "name": "stdout",
     "text": [
      "Rexi says: I'm a dog, I can't speak!\nRexi is 3 years old\n"
     ]
    }
   ],
   "source": [
    "rexi = Dog(\"Rexi\", 3)\n",
    "print(rexi.speak(\"I'm a dog, I can't speak!\"))\n",
    "print(rexi.description())"
   ]
  },
  {
   "cell_type": "code",
   "execution_count": 35,
   "metadata": {},
   "outputs": [
    {
     "output_type": "stream",
     "name": "stdout",
     "text": [
      "Experiment X species: Felis silvestris\nGuffy species: Canis familiaris\n"
     ]
    }
   ],
   "source": [
    "class Dog:\n",
    "    species = \"Canis familiaris\"\n",
    "\n",
    "    def __init__(self, name, age , gender='male'):\n",
    "        self.name = name\n",
    "        self.age = age\n",
    "        self.gender= gender\n",
    "    def mutation(cls, new_species):\n",
    "        cls.species = new_species\n",
    "\n",
    "\n",
    "catdog_mutation= Dog(\"Experiment X\",0.2,gender='unknown')\n",
    "catdog_mutation.mutation('Felis silvestris')\n",
    "guffy= Dog('Guffy',2)\n",
    "print(f\"Experiment X species: {catdog_mutation.species}\")\n",
    "print(f\"Guffy species: {guffy.species}\")"
   ]
  },
  {
   "cell_type": "code",
   "execution_count": 42,
   "metadata": {},
   "outputs": [
    {
     "output_type": "stream",
     "name": "stdout",
     "text": [
      ">:-) whahaha\nYou have infected all the dogs in the world!\nExperiment X species: Felis silvestris\nGuffy species: Felis silvestris\n"
     ]
    }
   ],
   "source": [
    "class Dog:\n",
    "    species = \"Canis familiaris\"\n",
    "\n",
    "    def __init__(self, name, age , gender='male'):\n",
    "        self.name = name\n",
    "        self.age = age\n",
    "        self.gender= gender\n",
    "    def mutation(cls, new_species):\n",
    "        cls.species = new_species\n",
    "    @classmethod\n",
    "    def contagious_mutation(cls, new_species):\n",
    "        cls.species = new_species\n",
    "        print('>:-) whahaha')\n",
    "        print('You have infected all the dogs in the world!')  \n",
    "\n",
    "guffy= Dog('Guffy',2)\n",
    "catdog_mutation= Dog(\"Experiment X\",0.2,gender='unknown')\n",
    "catdog_mutation.contagious_mutation('Felis silvestris')\n",
    "print(f\"Experiment X species: {catdog_mutation.species}\")\n",
    "print(f\"Guffy species: {guffy.species}\")"
   ]
  },
  {
   "cell_type": "code",
   "execution_count": 71,
   "metadata": {},
   "outputs": [],
   "source": [
    "class Maze:\n",
    "    @staticmethod\n",
    "    def get_predetermined_maze():\n",
    "        return  f\"\"\"\n",
    "            # # # # # # # # # # # # # # #\n",
    "            # S                     #   #\n",
    "            #         #             #   #\n",
    "            # # # #             #   #   #\n",
    "            #                   #   #   #\n",
    "            #               # # # # #   #\n",
    "            #                           #\n",
    "            #                           #\n",
    "            # # # # # #       # # # #   #\n",
    "            #                         E #\n",
    "            # # # # # # # # # # # # # # #\n",
    "        \"\"\"\n",
    "    @staticmethod\n",
    "    def maze_solver(maze:str)-> str:       \n",
    "        #TODO: implement maze solver using BFS\n",
    "        pass\n",
    "    \n",
    "    @staticmethod \n",
    "    def maze_generator()->str:\n",
    "        #TODO: implement the maze generator using prim \n",
    "        pass\n",
    "\n"
   ]
  },
  {
   "cell_type": "code",
   "execution_count": 72,
   "metadata": {},
   "outputs": [
    {
     "output_type": "stream",
     "name": "stdout",
     "text": [
      "\n            # # # # # # # # # # # # # # #\n            # S                     #   #\n            #         #             #   #\n            # # # #             #   #   #\n            #                   #   #   #\n            #               # # # # #   #\n            #                           #\n            #                           #\n            # # # # # #       # # # #   #\n            #                         E #\n            # # # # # # # # # # # # # # #\n        \n"
     ]
    }
   ],
   "source": [
    "print(Maze.get_predetermined_maze())"
   ]
  },
  {
   "cell_type": "code",
   "execution_count": 5,
   "metadata": {},
   "outputs": [
    {
     "output_type": "stream",
     "name": "stdout",
     "text": [
      "is volvo an instance of Car? True\nis volvo an instance of Vehicle? True\nis Vehicle a subclass of Car? False\nis Car a subclass of Vehicle? True\n"
     ]
    }
   ],
   "source": [
    "class Vehicle:\n",
    "    pass\n",
    " \n",
    "class Car(Vehicle):\n",
    "    pass\n",
    " \n",
    "\n",
    "volvo = Car()\n",
    "#isinstance\n",
    "print(f\"is volvo an instance of Car? {isinstance(volvo, Car)}\")\n",
    "print(f\"is volvo an instance of Vehicle? {isinstance(volvo, Vehicle)}\")\n",
    "\n",
    "#issubclass\n",
    "print(f\"is Vehicle a subclass of Car? {issubclass(Vehicle, Car)}\")\n",
    "print(f\"is Car a subclass of Vehicle? {issubclass(Car, Vehicle)}\")"
   ]
  },
  {
   "cell_type": "code",
   "execution_count": 16,
   "metadata": {},
   "outputs": [
    {
     "output_type": "execute_result",
     "data": {
      "text/plain": [
       "True"
      ]
     },
     "metadata": {},
     "execution_count": 16
    }
   ],
   "source": [
    " issubclass(int, object)"
   ]
  },
  {
   "cell_type": "code",
   "execution_count": 18,
   "metadata": {},
   "outputs": [],
   "source": [
    "class Country(): \n",
    "    def capital(self): \n",
    "        return \"{} is the the capital of {}\"\n",
    "   \n",
    "    def language(self): \n",
    "        return \"{} is the the language of {}\"\n",
    "   \n",
    "    def population(self): \n",
    "        pass"
   ]
  },
  {
   "cell_type": "code",
   "execution_count": 23,
   "metadata": {},
   "outputs": [],
   "source": [
    "class Usa(Country):\n",
    "    def capital(self): \n",
    "       return super().capital().format(\"Washington, D.C.\",\"USA\") \n",
    "   \n",
    "    def language(self): \n",
    "        return super().language().format(\"English\",\"USA\") \n",
    "   \n",
    "    def population(self): \n",
    "        return '~328,239,523'"
   ]
  },
  {
   "cell_type": "code",
   "execution_count": 26,
   "metadata": {},
   "outputs": [
    {
     "output_type": "stream",
     "name": "stdout",
     "text": [
      "USA:\nCapital: Washington, D.C. is the the capital of USA\nlanguage: English is the the language of USA\npopulation: ~328,239,523\n"
     ]
    }
   ],
   "source": [
    "usa= Usa()\n",
    "print(\"USA:\")\n",
    "print(f\"Capital: {usa.capital()}\")\n",
    "print(f\"language: {usa.language()}\")\n",
    "print(f\"population: {usa.population()}\")"
   ]
  },
  {
   "cell_type": "code",
   "execution_count": null,
   "metadata": {},
   "outputs": [],
   "source": []
  }
 ]
}