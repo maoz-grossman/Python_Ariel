{
 "metadata": {
  "language_info": {
   "codemirror_mode": {
    "name": "ipython",
    "version": 3
   },
   "file_extension": ".py",
   "mimetype": "text/x-python",
   "name": "python",
   "nbconvert_exporter": "python",
   "pygments_lexer": "ipython3",
   "version": "3.6.6-final"
  },
  "orig_nbformat": 2,
  "kernelspec": {
   "name": "python3",
   "display_name": "Python 3",
   "language": "python"
  }
 },
 "nbformat": 4,
 "nbformat_minor": 2,
 "cells": [
  {
   "cell_type": "code",
   "execution_count": 68,
   "metadata": {},
   "outputs": [],
   "source": [
    "class Gymatria:\n",
    "\n",
    "    _aleph_beth = None\n",
    "    \n",
    "    def __init__(self,expression:str) -> None:\n",
    "        self._expr = expression\n",
    "        self._expr_value = Gymatria.get_value(expression)\n",
    "    \n",
    "    @property\n",
    "    def expr_value(self)->int:\n",
    "        return self._expr_value\n",
    "    @property\n",
    "    def expr(self) -> str:\n",
    "        return self._expr\n",
    "    @property \n",
    "    def aleph_beth(self):\n",
    "        return Gymatria.get_aleph_beth()\n",
    "    \n",
    "    def __add__(self , other) -> int:\n",
    "        return self.expr_value + other.expr_value\n",
    "\n",
    "    def __sub__(self , other) -> int:\n",
    "        return abs(self.expr_value - other.expr_value)\n",
    "    \n",
    "    def __mul__(self , other) -> int:\n",
    "        return self.expr_value * other.expr_value\n",
    "    \n",
    "    def __repr__(self) -> str:\n",
    "        return f\"{self.expr} בגימטריה זה: {self.expr_value}\"\n",
    "    \n",
    "    @classmethod\n",
    "    def get_aleph_beth(cls):\n",
    "        if cls._aleph_beth == None:\n",
    "            cls._set_aleph_beth()\n",
    "        return cls.aleph_beth\n",
    "\n",
    "    @classmethod\n",
    "    def get_value(cls,expression:str) -> int:\n",
    "        aleph_beth = cls.get_aleph_beth()\n",
    "        expr_value = 0\n",
    "        for ot in expression:\n",
    "            if ord('א') <= ord(ot) <= ord('ת'):\n",
    "                expr_value += aleph_beth[ot]\n",
    "        return expr_value\n",
    "        \n",
    "    @classmethod\n",
    "    def ot_sofit(cls, ot: str)-> bool:\n",
    "        cls.otiot_sofiot = ['ץ','ך','ף','ן','ם']\n",
    "        if ot in cls.otiot_sofiot:\n",
    "            return True\n",
    "        return False\n",
    "    \n",
    "    @classmethod\n",
    "    def _set_aleph_beth(cls) -> None:\n",
    "        ot_num = ord('א')\n",
    "        cls.aleph_beth={}\n",
    "        val = 1\n",
    "        for i in range(27):\n",
    "            cls.aleph_beth[chr(ot_num+i)] = val\n",
    "            if not cls.ot_sofit(chr(ot_num+i)):\n",
    "                if 90 >= val >= 10:\n",
    "                    val+=10\n",
    "                elif val >= 100:\n",
    "                    val+= 100 \n",
    "                else: val+=1\n",
    "\n"
   ]
  },
  {
   "cell_type": "code",
   "execution_count": 69,
   "metadata": {},
   "outputs": [
    {
     "output_type": "stream",
     "name": "stdout",
     "text": [
      "אבא בגימטריה זה: 4\nאמא בגימטריה זה: 42\nאבא+אמא בגימטריה = 46\nאבא-אמא בגימטריה = 38\nאבא*אמא בגימטריה = 168\n"
     ]
    }
   ],
   "source": [
    "\n",
    "aba = Gymatria('אבא')\n",
    "aima = Gymatria('אמא')\n",
    "\n",
    "print(aba)\n",
    "print(aima)\n",
    "print(f'אבא+אמא בגימטריה = {aima+aba}')\n",
    "print(f'אבא-אמא בגימטריה = {aba-aima}')\n",
    "print(f'אבא*אמא בגימטריה = {aima*aba}')\n",
    "\n"
   ]
  },
  {
   "cell_type": "code",
   "execution_count": 1,
   "metadata": {},
   "outputs": [
    {
     "output_type": "stream",
     "name": "stdout",
     "text": [
      "something\n"
     ]
    }
   ],
   "source": [
    "class Empty:\n",
    "    pass\n",
    "empty = Empty()\n",
    "empty.something = \"something\"\n",
    "print(empty.something)"
   ]
  },
  {
   "cell_type": "code",
   "execution_count": 33,
   "metadata": {},
   "outputs": [
    {
     "output_type": "stream",
     "name": "stdout",
     "text": [
      "__new__ method was executed\n"
     ]
    }
   ],
   "source": [
    "class AmIEmpty(Empty):\n",
    "    def __new__(cls):\n",
    "        print(\"__new__ method was executed\")\n",
    "        return None\n",
    "    def __init__(self):\n",
    "        print(\"__init__ method was executed\")\n",
    "    def a_method(self):\n",
    "        print(\"a_method was executed\")\n",
    "\n",
    "am_i_empty = AmIEmpty()"
   ]
  },
  {
   "cell_type": "code",
   "execution_count": 34,
   "metadata": {},
   "outputs": [
    {
     "output_type": "error",
     "ename": "AttributeError",
     "evalue": "'NoneType' object has no attribute 'a_method'",
     "traceback": [
      "\u001b[1;31m---------------------------------------------------------------------------\u001b[0m",
      "\u001b[1;31mAttributeError\u001b[0m                            Traceback (most recent call last)",
      "\u001b[1;32m<ipython-input-34-0bb7bf48eb32>\u001b[0m in \u001b[0;36m<module>\u001b[1;34m\u001b[0m\n\u001b[1;32m----> 1\u001b[1;33m \u001b[0mam_i_empty\u001b[0m\u001b[1;33m.\u001b[0m\u001b[0ma_method\u001b[0m\u001b[1;33m(\u001b[0m\u001b[1;33m)\u001b[0m  \u001b[1;31m# => AttributeError\u001b[0m\u001b[1;33m\u001b[0m\u001b[0m\n\u001b[0m",
      "\u001b[1;31mAttributeError\u001b[0m: 'NoneType' object has no attribute 'a_method'"
     ]
    }
   ],
   "source": [
    "am_i_empty.a_method()  # => AttributeError"
   ]
  },
  {
   "cell_type": "code",
   "execution_count": 35,
   "metadata": {},
   "outputs": [
    {
     "output_type": "stream",
     "name": "stdout",
     "text": [
      "__new__ method was executed\n__init__ method was executed\na_method was executed\n"
     ]
    }
   ],
   "source": [
    "class AmIEmpty(Empty):\r\n",
    "    def __new__(cls):\r\n",
    "        print(\"__new__ method was executed\")\r\n",
    "        return super(Empty, cls).__new__(cls)\r\n",
    "    def __init__(self):\r\n",
    "        print(\"__init__ method was executed\")\r\n",
    "    def a_method(self):\r\n",
    "        print(\"a_method was executed\")\r\n",
    "\r\n",
    "am_i_empty = AmIEmpty()\r\n",
    "am_i_empty.a_method()"
   ]
  },
  {
   "cell_type": "code",
   "execution_count": null,
   "metadata": {},
   "outputs": [],
   "source": []
  }
 ]
}