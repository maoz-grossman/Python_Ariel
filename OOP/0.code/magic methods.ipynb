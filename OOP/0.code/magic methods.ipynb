{
 "metadata": {
  "language_info": {
   "codemirror_mode": {
    "name": "ipython",
    "version": 3
   },
   "file_extension": ".py",
   "mimetype": "text/x-python",
   "name": "python",
   "nbconvert_exporter": "python",
   "pygments_lexer": "ipython3",
   "version": "3.6.6-final"
  },
  "orig_nbformat": 2,
  "kernelspec": {
   "name": "python3",
   "display_name": "Python 3",
   "language": "python"
  }
 },
 "nbformat": 4,
 "nbformat_minor": 2,
 "cells": [
  {
   "cell_type": "code",
   "execution_count": 68,
   "metadata": {},
   "outputs": [],
   "source": [
    "class Gymatria:\n",
    "\n",
    "    _aleph_beth = None\n",
    "    \n",
    "    def __init__(self,expression:str) -> None:\n",
    "        self._expr = expression\n",
    "        self._expr_value = Gymatria.get_value(expression)\n",
    "    \n",
    "    @property\n",
    "    def expr_value(self)->int:\n",
    "        return self._expr_value\n",
    "    @property\n",
    "    def expr(self) -> str:\n",
    "        return self._expr\n",
    "    @property \n",
    "    def aleph_beth(self):\n",
    "        return Gymatria.get_aleph_beth()\n",
    "    \n",
    "    def __add__(self , other) -> int:\n",
    "        return self.expr_value + other.expr_value\n",
    "\n",
    "    def __sub__(self , other) -> int:\n",
    "        return abs(self.expr_value - other.expr_value)\n",
    "    \n",
    "    def __mul__(self , other) -> int:\n",
    "        return self.expr_value * other.expr_value\n",
    "    \n",
    "    def __repr__(self) -> str:\n",
    "        return f\"{self.expr} בגימטריה זה: {self.expr_value}\"\n",
    "    \n",
    "    \n",
    "    @classmethod\n",
    "    def get_aleph_beth(cls):\n",
    "        if cls._aleph_beth == None:\n",
    "            cls._set_aleph_beth()\n",
    "        return cls.aleph_beth\n",
    "\n",
    "    @classmethod\n",
    "    def get_value(cls,expression:str) -> int:\n",
    "        aleph_beth = cls.get_aleph_beth()\n",
    "        expr_value = 0\n",
    "        for ot in expression:\n",
    "            if ord('א') <= ord(ot) <= ord('ת'):\n",
    "                expr_value += aleph_beth[ot]\n",
    "        return expr_value\n",
    "        \n",
    "    @classmethod\n",
    "    def ot_sofit(cls, ot: str)-> bool:\n",
    "        cls.otiot_sofiot = ['ץ','ך','ף','ן','ם']\n",
    "        if ot in cls.otiot_sofiot:\n",
    "            return True\n",
    "        return False\n",
    "    \n",
    "    @classmethod\n",
    "    def _set_aleph_beth(cls) -> None:\n",
    "        ot_num = ord('א')\n",
    "        cls.aleph_beth={}\n",
    "        val = 1\n",
    "        for i in range(27):\n",
    "            cls.aleph_beth[chr(ot_num+i)] = val\n",
    "            if not cls.ot_sofit(chr(ot_num+i)):\n",
    "                if 90 >= val >= 10:\n",
    "                    val+=10\n",
    "                elif val >= 100:\n",
    "                    val+= 100 \n",
    "                else: val+=1\n",
    "\n"
   ]
  },
  {
   "cell_type": "code",
   "execution_count": 69,
   "metadata": {},
   "outputs": [
    {
     "output_type": "stream",
     "name": "stdout",
     "text": [
      "אבא בגימטריה זה: 4\nאמא בגימטריה זה: 42\nאבא+אמא בגימטריה = 46\nאבא-אמא בגימטריה = 38\nאבא*אמא בגימטריה = 168\n"
     ]
    }
   ],
   "source": [
    "\n",
    "aba = Gymatria('אבא')\n",
    "aima = Gymatria('אמא')\n",
    "\n",
    "print(aba)\n",
    "print(aima)\n",
    "print(f'אבא+אמא בגימטריה = {aima+aba}')\n",
    "print(f'אבא-אמא בגימטריה = {aba-aima}')\n",
    "print(f'אבא*אמא בגימטריה = {aima*aba}')\n",
    "\n"
   ]
  },
  {
   "cell_type": "code",
   "execution_count": 70,
   "metadata": {},
   "outputs": [
    {
     "output_type": "stream",
     "name": "stdout",
     "text": [
      "something\n"
     ]
    }
   ],
   "source": [
    "class Empty:\n",
    "    pass\n",
    "empty = Empty()\n",
    "empty.something = \"something\"\n",
    "print(empty.something)"
   ]
  },
  {
   "cell_type": "code",
   "execution_count": 71,
   "metadata": {},
   "outputs": [
    {
     "output_type": "stream",
     "name": "stdout",
     "text": [
      "אבא אמא בגימטריה זה: 46\n"
     ]
    }
   ],
   "source": [
    "Gymatria.__iadd__= lambda self , other: Gymatria(self.expr+\" \"+other.expr)\n",
    "aba += aima\n",
    "print(aba)"
   ]
  },
  {
   "cell_type": "code",
   "execution_count": 72,
   "metadata": {},
   "outputs": [
    {
     "output_type": "stream",
     "name": "stdout",
     "text": [
      "__new__ method was executed\n"
     ]
    }
   ],
   "source": [
    "class AmIEmpty(Empty):\n",
    "    def __new__(cls):\n",
    "        print(\"__new__ method was executed\")\n",
    "        return None\n",
    "    def __init__(self):\n",
    "        print(\"__init__ method was executed\")\n",
    "    def a_method(self):\n",
    "        print(\"a_method was executed\")\n",
    "\n",
    "am_i_empty = AmIEmpty()"
   ]
  },
  {
   "cell_type": "code",
   "execution_count": 73,
   "metadata": {},
   "outputs": [
    {
     "output_type": "error",
     "ename": "AttributeError",
     "evalue": "'NoneType' object has no attribute 'a_method'",
     "traceback": [
      "\u001b[1;31m---------------------------------------------------------------------------\u001b[0m",
      "\u001b[1;31mAttributeError\u001b[0m                            Traceback (most recent call last)",
      "\u001b[1;32m<ipython-input-73-0bb7bf48eb32>\u001b[0m in \u001b[0;36m<module>\u001b[1;34m\u001b[0m\n\u001b[1;32m----> 1\u001b[1;33m \u001b[0mam_i_empty\u001b[0m\u001b[1;33m.\u001b[0m\u001b[0ma_method\u001b[0m\u001b[1;33m(\u001b[0m\u001b[1;33m)\u001b[0m  \u001b[1;31m# => AttributeError\u001b[0m\u001b[1;33m\u001b[0m\u001b[0m\n\u001b[0m",
      "\u001b[1;31mAttributeError\u001b[0m: 'NoneType' object has no attribute 'a_method'"
     ]
    }
   ],
   "source": [
    "am_i_empty.a_method()  # => AttributeError"
   ]
  },
  {
   "cell_type": "code",
   "execution_count": 74,
   "metadata": {},
   "outputs": [
    {
     "output_type": "stream",
     "name": "stdout",
     "text": [
      "__new__ method was executed\n__init__ method was executed\na_method was executed\n"
     ]
    }
   ],
   "source": [
    "class AmIEmpty(Empty):\r\n",
    "    def __new__(cls):\r\n",
    "        print(\"__new__ method was executed\")\r\n",
    "        return super(Empty, cls).__new__(cls)\r\n",
    "    def __init__(self):\r\n",
    "        print(\"__init__ method was executed\")\r\n",
    "    def a_method(self):\r\n",
    "        print(\"a_method was executed\")\r\n",
    "\r\n",
    "am_i_empty = AmIEmpty()\r\n",
    "am_i_empty.a_method()"
   ]
  },
  {
   "cell_type": "code",
   "execution_count": 75,
   "metadata": {},
   "outputs": [
    {
     "output_type": "stream",
     "name": "stdout",
     "text": [
      "[1, 2]\n"
     ]
    },
    {
     "output_type": "error",
     "ename": "NameError",
     "evalue": "name 'x' is not defined",
     "traceback": [
      "\u001b[1;31m---------------------------------------------------------------------------\u001b[0m",
      "\u001b[1;31mNameError\u001b[0m                                 Traceback (most recent call last)",
      "\u001b[1;32m<ipython-input-75-867c6f943e95>\u001b[0m in \u001b[0;36m<module>\u001b[1;34m\u001b[0m\n\u001b[0;32m      2\u001b[0m \u001b[0mprint\u001b[0m\u001b[1;33m(\u001b[0m\u001b[0mx\u001b[0m\u001b[1;33m)\u001b[0m\u001b[1;33m\u001b[0m\u001b[0m\n\u001b[0;32m      3\u001b[0m \u001b[1;32mdel\u001b[0m \u001b[0mx\u001b[0m\u001b[1;33m\u001b[0m\u001b[0m\n\u001b[1;32m----> 4\u001b[1;33m \u001b[0mprint\u001b[0m\u001b[1;33m(\u001b[0m\u001b[0mx\u001b[0m\u001b[1;33m)\u001b[0m \u001b[1;31m#=> NameError\u001b[0m\u001b[1;33m\u001b[0m\u001b[0m\n\u001b[0m",
      "\u001b[1;31mNameError\u001b[0m: name 'x' is not defined"
     ]
    }
   ],
   "source": [
    "x = [1,2]\n",
    "print(x)\n",
    "del x\n",
    "print(x) #=> NameError"
   ]
  },
  {
   "cell_type": "code",
   "execution_count": 76,
   "metadata": {},
   "outputs": [
    {
     "output_type": "stream",
     "name": "stdout",
     "text": [
      "<__main__.Gymatria object at 0x00000000088346D8>\nאבא אמא\n46\n"
     ]
    }
   ],
   "source": [
    "del Gymatria.__repr__\n",
    "print(aba)\n",
    "print(aba.expr)\n",
    "print(aba.expr_value)"
   ]
  },
  {
   "cell_type": "code",
   "execution_count": 77,
   "metadata": {},
   "outputs": [],
   "source": [
    "\n",
    "Gymatria.__int__ = lambda self: self.expr_value\n",
    "Gymatria.__str__ = lambda self: f\"{self.expr} בגימטריה זה: {self.expr_value}\"\n",
    "Gymatria.__float__ = lambda self: float(self.expr_value)"
   ]
  },
  {
   "cell_type": "code",
   "execution_count": 78,
   "metadata": {},
   "outputs": [
    {
     "output_type": "stream",
     "name": "stdout",
     "text": [
      "אבא אמא בגימטריה זה: 46\n46\n46.0\n"
     ]
    }
   ],
   "source": [
    "print(str(aba))\n",
    "print(int(aba))\n",
    "print(float(aba))"
   ]
  },
  {
   "cell_type": "code",
   "execution_count": 79,
   "metadata": {},
   "outputs": [],
   "source": [
    "Gymatria.__repr__ = lambda self: f\"{self.expr} == {self.expr_value}\""
   ]
  },
  {
   "cell_type": "code",
   "execution_count": 80,
   "metadata": {},
   "outputs": [
    {
     "output_type": "stream",
     "name": "stdout",
     "text": [
      "שלום בגימטריה זה: 376\n[שלום == 376, עולם == 146]\n"
     ]
    }
   ],
   "source": [
    "shalom = Gymatria(\"שלום\")\n",
    "print(shalom)\n",
    "gymatria_list = [shalom,Gymatria(\"עולם\")]\n",
    "print(gymatria_list)"
   ]
  },
  {
   "cell_type": "code",
   "execution_count": 81,
   "metadata": {},
   "outputs": [
    {
     "output_type": "stream",
     "name": "stdout",
     "text": [
      "[Gymatria('שלום'), Gymatria('עולם')]\nעולם בגימטריה זה: 146\n"
     ]
    }
   ],
   "source": [
    "Gymatria.__repr__ = lambda self: f\"Gymatria({self.expr!r})\"\n",
    "print(gymatria_list)\n",
    "olam = eval(repr(gymatria_list[1]))\n",
    "print(olam)"
   ]
  },
  {
   "cell_type": "code",
   "execution_count": 82,
   "metadata": {},
   "outputs": [
    {
     "output_type": "stream",
     "name": "stdout",
     "text": [
      "[Gymatria('שלום'), Gymatria('עולם'), Gymatria('צה\"ל'), Gymatria(\"וכו'\")]\n"
     ]
    }
   ],
   "source": [
    "gymatria_list.append(Gymatria('צה\"ל'))\n",
    "gymatria_list.append(Gymatria(\"וכו'\"))\n",
    "print(gymatria_list)"
   ]
  },
  {
   "cell_type": "code",
   "execution_count": 129,
   "metadata": {},
   "outputs": [
    {
     "output_type": "stream",
     "name": "stdout",
     "text": [
      "default\n"
     ]
    },
    {
     "output_type": "error",
     "ename": "Exception",
     "evalue": "self.all already exists",
     "traceback": [
      "\u001b[1;31m---------------------------------------------------------------------------\u001b[0m",
      "\u001b[1;31mException\u001b[0m                                 Traceback (most recent call last)",
      "\u001b[1;32m<ipython-input-129-c7f240376bba>\u001b[0m in \u001b[0;36m<module>\u001b[1;34m\u001b[0m\n\u001b[0;32m     19\u001b[0m \u001b[0mstam\u001b[0m \u001b[1;33m=\u001b[0m \u001b[0mStam\u001b[0m\u001b[1;33m(\u001b[0m\u001b[0md\u001b[0m \u001b[1;33m=\u001b[0m \u001b[1;36m1\u001b[0m\u001b[1;33m)\u001b[0m\u001b[1;33m\u001b[0m\u001b[0m\n\u001b[0;32m     20\u001b[0m \u001b[0mprint\u001b[0m\u001b[1;33m(\u001b[0m\u001b[0mstam\u001b[0m\u001b[1;33m.\u001b[0m\u001b[0mattr1\u001b[0m\u001b[1;33m)\u001b[0m\u001b[1;33m\u001b[0m\u001b[0m\n\u001b[1;32m---> 21\u001b[1;33m \u001b[0mstam\u001b[0m\u001b[1;33m.\u001b[0m\u001b[0mall\u001b[0m \u001b[1;33m=\u001b[0m \u001b[1;32mlambda\u001b[0m \u001b[0mself\u001b[0m\u001b[1;33m:\u001b[0m\u001b[0mprint\u001b[0m\u001b[1;33m(\u001b[0m\u001b[1;34mf\"{self.attr1} , {self.attr2}\"\u001b[0m\u001b[1;33m)\u001b[0m \u001b[1;31m# => Exception\u001b[0m\u001b[1;33m\u001b[0m\u001b[0m\n\u001b[0m\u001b[0;32m     22\u001b[0m \u001b[0mstam\u001b[0m\u001b[1;33m.\u001b[0m\u001b[0mattr1\u001b[0m \u001b[1;33m=\u001b[0m \u001b[1;33m(\u001b[0m\u001b[1;36m1\u001b[0m\u001b[1;33m,\u001b[0m\u001b[1;36m2\u001b[0m\u001b[1;33m,\u001b[0m\u001b[1;36m3\u001b[0m\u001b[1;33m)\u001b[0m \u001b[1;31m#=> Exception\u001b[0m\u001b[1;33m\u001b[0m\u001b[0m\n",
      "\u001b[1;32m<ipython-input-123-e8c1a875637d>\u001b[0m in \u001b[0;36m__setattr__\u001b[1;34m(self, name, value)\u001b[0m\n\u001b[0;32m     13\u001b[0m         \u001b[1;32melif\u001b[0m \u001b[0mname\u001b[0m \u001b[1;33m==\u001b[0m \u001b[1;34m'attr2'\u001b[0m \u001b[1;32mand\u001b[0m \u001b[0mself\u001b[0m\u001b[1;33m.\u001b[0m\u001b[0mattr2\u001b[0m \u001b[1;33m==\u001b[0m \u001b[1;32mNone\u001b[0m\u001b[1;33m:\u001b[0m\u001b[1;33m\u001b[0m\u001b[0m\n\u001b[0;32m     14\u001b[0m             \u001b[0mself\u001b[0m\u001b[1;33m.\u001b[0m\u001b[0m__dict__\u001b[0m\u001b[1;33m[\u001b[0m\u001b[0mname\u001b[0m\u001b[1;33m]\u001b[0m \u001b[1;33m=\u001b[0m \u001b[0mvalue\u001b[0m\u001b[1;33m\u001b[0m\u001b[0m\n\u001b[1;32m---> 15\u001b[1;33m         \u001b[1;32melse\u001b[0m\u001b[1;33m:\u001b[0m \u001b[1;32mraise\u001b[0m \u001b[0mException\u001b[0m\u001b[1;33m(\u001b[0m\u001b[1;34mf\"self.{name} already exists\"\u001b[0m\u001b[1;33m)\u001b[0m\u001b[1;33m\u001b[0m\u001b[0m\n\u001b[0m\u001b[0;32m     16\u001b[0m \u001b[1;33m\u001b[0m\u001b[0m\n\u001b[0;32m     17\u001b[0m \u001b[0mstam\u001b[0m \u001b[1;33m=\u001b[0m \u001b[0mStam\u001b[0m\u001b[1;33m(\u001b[0m\u001b[0md\u001b[0m \u001b[1;33m=\u001b[0m \u001b[1;36m1\u001b[0m\u001b[1;33m)\u001b[0m\u001b[1;33m\u001b[0m\u001b[0m\n",
      "\u001b[1;31mException\u001b[0m: self.all already exists"
     ]
    }
   ],
   "source": [
    "class MutableDefault:\n",
    "    ''' Saves any value is provited \n",
    "        or initiates to \"default\" '''\n",
    "    def __init__(self , *args , **kwargs):\n",
    "        if args : self.attr1 = args \n",
    "        else: self.attr1 = 'default'\n",
    "        if kwargs: self.attr2 = kwargs \n",
    "        else: self.attr2 = 'default'\n",
    "    def __getattr__(self,name:str):\n",
    "        try: self.__dict__[name]\n",
    "        except: return None\n",
    "    def __setattr__(self,name,value):\n",
    "        if name == 'attr1' and self.attr1 == None:\n",
    "            self.__dict__[name] = value\n",
    "        elif name == 'attr2' and self.attr2 == None:\n",
    "            self.__dict__[name] = value\n",
    "        else: raise Exception(f\"self.{name} already exists\")\n",
    "\n",
    "stam = Stam(d = 1)\n",
    "print(stam.attr1)\n",
    "stam.all = lambda self:print(f\"{self.attr1} , {self.attr2}\") # => Exception\n",
    "stam.attr1 = (1,2,3) #=> Exception"
   ]
  },
  {
   "cell_type": "code",
   "execution_count": null,
   "metadata": {},
   "outputs": [],
   "source": []
  }
 ]
}