{
 "cells": [
  {
   "cell_type": "code",
   "execution_count": 2,
   "metadata": {},
   "outputs": [],
   "source": [
    "import networkx as nx"
   ]
  },
  {
   "cell_type": "code",
   "execution_count": 9,
   "metadata": {},
   "outputs": [],
   "source": [
    "my_graph = nx.Graph()\n",
    "my_graph.add_node(1)\n",
    "my_graph.add_nodes_from([2, 3])\n",
    "my_graph.add_nodes_from([\n",
    "    (4, {\"color\": \"red\"}),\n",
    "    (5, {\"color\": \"green\"}),\n",
    "])"
   ]
  },
  {
   "cell_type": "code",
   "execution_count": 23,
   "metadata": {},
   "outputs": [],
   "source": [
    "graph_other = nx.path_graph(10)\n",
    "my_graph.add_nodes_from(graph_other)\n",
    "my_graph.add_node(graph_other)"
   ]
  },
  {
   "cell_type": "code",
   "execution_count": 29,
   "metadata": {
    "scrolled": true
   },
   "outputs": [
    {
     "data": {
      "text/plain": [
       "[(1, 2), (1, 3), (2, 3)]"
      ]
     },
     "execution_count": 29,
     "metadata": {},
     "output_type": "execute_result"
    }
   ],
   "source": [
    "my_graph.add_edge(1, 2)\n",
    "e = (2, 3)\n",
    "my_graph.add_edge(*e)\n",
    "\n",
    "my_graph.add_edges_from([(1, 2), (1, 3),(2, 3, {'weight': 3.1415})])\n",
    "list(my_graph.edges)"
   ]
  },
  {
   "cell_type": "code",
   "execution_count": 30,
   "metadata": {},
   "outputs": [],
   "source": [
    "my_graph.clear()"
   ]
  },
  {
   "cell_type": "code",
   "execution_count": 45,
   "metadata": {},
   "outputs": [
    {
     "name": "stdout",
     "output_type": "stream",
     "text": [
      "[2, 1, 3, 4]\n",
      "[(2, 1), (2, 4), (1, 3), (1, 2), (3, 2)]\n",
      "[3, 2]\n",
      "3\n"
     ]
    }
   ],
   "source": [
    "G = nx.DiGraph()\n",
    "G.add_edge(2, 1)   # adds the nodes in order 2, 1\n",
    "G.add_edge(1, 3)\n",
    "G.add_edge(2, 4)\n",
    "G.add_edge(1, 2)\n",
    "G.add_edge(3,2)\n",
    "assert list(G.successors(2)) == [1, 4]\n",
    "assert list(G.edges) == [(2, 1), (2, 4), (1, 3), (1, 2),(3, 2)]\n",
    "print(list(G.nodes))\n",
    "print(list(G.edges))\n",
    "print(list(G.adj[1]))  # or list(G.neighbors(1))\n",
    "print(G.degree[1])  # the number of edges incident to 1"
   ]
  },
  {
   "cell_type": "code",
   "execution_count": 50,
   "metadata": {},
   "outputs": [],
   "source": [
    "\n",
    "G.add_edge(4,1)\n",
    "G.add_edge(4,5)\n",
    "G.add_edge(5,1)\n",
    "G.add_edge(2,5)\n",
    "G.add_edge(6,5)\n",
    "G.add_edge(1,6)\n",
    "G.add_edge(3,5)\n",
    "G.add_edge(4,6)\n",
    "G.remove_node(3)\n",
    "G.remove_nodes_from('4')\n",
    "G.remove_nodes_from('5')\n",
    "G.remove_edge(6, 5)"
   ]
  },
  {
   "cell_type": "code",
   "execution_count": null,
   "metadata": {},
   "outputs": [],
   "source": []
  }
 ],
 "metadata": {
  "kernelspec": {
   "display_name": "Python 3",
   "language": "python",
   "name": "python3"
  },
  "language_info": {
   "codemirror_mode": {
    "name": "ipython",
    "version": 3
   },
   "file_extension": ".py",
   "mimetype": "text/x-python",
   "name": "python",
   "nbconvert_exporter": "python",
   "pygments_lexer": "ipython3",
   "version": "3.8.5"
  }
 },
 "nbformat": 4,
 "nbformat_minor": 4
}
