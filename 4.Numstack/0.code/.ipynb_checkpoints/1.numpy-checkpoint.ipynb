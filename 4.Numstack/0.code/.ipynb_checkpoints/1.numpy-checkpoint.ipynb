{
 "cells": [
  {
   "cell_type": "code",
   "execution_count": 2,
   "metadata": {},
   "outputs": [],
   "source": [
    "import numpy as np"
   ]
  },
  {
   "cell_type": "code",
   "execution_count": 8,
   "metadata": {},
   "outputs": [
    {
     "data": {
      "text/plain": [
       "array(['1', '2', '3', 'a'], dtype='<U11')"
      ]
     },
     "execution_count": 8,
     "metadata": {},
     "output_type": "execute_result"
    }
   ],
   "source": [
    "arr = np.array((1,2,3,'a'))\n",
    "arr"
   ]
  },
  {
   "cell_type": "code",
   "execution_count": 18,
   "metadata": {},
   "outputs": [
    {
     "name": "stdout",
     "output_type": "stream",
     "text": [
      "list+list: [1, 2, 3, 4, 5, 6]\n",
      "arr + list: [5 7 9]\n",
      "type(list+array) = <class 'numpy.ndarray'>\n"
     ]
    }
   ],
   "source": [
    "lis = [1,2,3]\n",
    "print(f\"list+list: {lis+[4,5,6]}\")\n",
    "\n",
    "arr = np.array((1,2,3))\n",
    "lst_arr = arr + [4,5,6]\n",
    "print(f\"arr + list: {lst_arr}\")\n",
    "print(f\"type(list+array) = {type(lst_arr)}\")"
   ]
  },
  {
   "cell_type": "code",
   "execution_count": 22,
   "metadata": {},
   "outputs": [
    {
     "name": "stdout",
     "output_type": "stream",
     "text": [
      "[0.5 1.  1.5]\n",
      "[1 4 9]\n",
      "[ 5 10 15]\n",
      "[6 7 8]\n",
      "operands could not be broadcast together with shapes (3,) (2,) \n"
     ]
    }
   ],
   "source": [
    "print(arr/2)\n",
    "print(arr**2)\n",
    "print(arr*5)\n",
    "print(arr + [5])\n",
    "try:\n",
    "    arr + [1,2] #=> ValueError\n",
    "except ValueError as e:\n",
    "    print(e)"
   ]
  },
  {
   "cell_type": "code",
   "execution_count": 32,
   "metadata": {},
   "outputs": [
    {
     "name": "stdout",
     "output_type": "stream",
     "text": [
      "[0.76159416 0.96402758 0.99505475]\n",
      "[ 0.54030231 -0.41614684 -0.9899925 ]\n",
      "[0.84147098 0.90929743 0.14112001]\n",
      "[ 2.71828183  7.3890561  20.08553692]\n",
      "[1.         1.41421356 1.73205081]\n",
      "[0.         0.69314718 1.09861229]\n"
     ]
    }
   ],
   "source": [
    "print(np.tanh(arr))\n",
    "print(np.cos(arr))\n",
    "print(np.sin(arr))\n",
    "print(np.exp(arr))\n",
    "print(np.sqrt(arr))\n",
    "print(np.log(arr))\n"
   ]
  },
  {
   "cell_type": "code",
   "execution_count": 38,
   "metadata": {},
   "outputs": [
    {
     "name": "stdout",
     "output_type": "stream",
     "text": [
      "32\n",
      "32\n",
      "32\n"
     ]
    }
   ],
   "source": [
    "arr2 = np.array([4,5,6])\n",
    "print(np.sum(arr2*arr))\n",
    "print(arr2.dot(arr))\n",
    "print(arr2 @ arr)"
   ]
  },
  {
   "cell_type": "code",
   "execution_count": 40,
   "metadata": {},
   "outputs": [
    {
     "name": "stdout",
     "output_type": "stream",
     "text": [
      "12.933154491899135°\n"
     ]
    }
   ],
   "source": [
    "a,b = arr,arr2\n",
    "cosangle = a@b/(np.linalg.norm(a)*np.linalg.norm(b))\n",
    "angle_degree= np.rad2deg(np.arccos(cosangle))\n",
    "degree_sign= u'\\N{DEGREE SIGN}'\n",
    "print(f\"{angle_degree}{degree_sign}\")"
   ]
  },
  {
   "cell_type": "code",
   "execution_count": 45,
   "metadata": {},
   "outputs": [
    {
     "name": "stdout",
     "output_type": "stream",
     "text": [
      "[[1 2]\n",
      " [3 4]]\n"
     ]
    }
   ],
   "source": [
    "arr = np.array([[1,2],[3,4]])\n",
    "print(arr)"
   ]
  },
  {
   "cell_type": "code",
   "execution_count": 49,
   "metadata": {},
   "outputs": [
    {
     "name": "stdout",
     "output_type": "stream",
     "text": [
      "1\n",
      "1\n"
     ]
    }
   ],
   "source": [
    "print(arr[0][0])\n",
    "print(arr[0,0])\n"
   ]
  },
  {
   "cell_type": "code",
   "execution_count": 51,
   "metadata": {},
   "outputs": [
    {
     "data": {
      "text/plain": [
       "array([1, 3])"
      ]
     },
     "execution_count": 51,
     "metadata": {},
     "output_type": "execute_result"
    }
   ],
   "source": [
    "arr[:,0]"
   ]
  },
  {
   "cell_type": "code",
   "execution_count": 58,
   "metadata": {},
   "outputs": [
    {
     "name": "stdout",
     "output_type": "stream",
     "text": [
      "inverse of arr: \n",
      "[[-2.   1. ]\n",
      " [ 1.5 -0.5]]\n",
      "determinant of arr:\n",
      "-2.0000000000000004\n",
      "arr Transpose:\n",
      "[[1 3]\n",
      " [2 4]]\n",
      "trace of a:\n",
      "5\n"
     ]
    }
   ],
   "source": [
    "print(f\"inverse of arr: \")\n",
    "print(np.linalg.inv(arr))\n",
    "print(\"determinant of arr:\")\n",
    "print(np.linalg.det(arr))\n",
    "print(\"arr Transpose:\")\n",
    "print(arr.T)\n",
    "print(\"trace of a:\")\n",
    "print(np.trace(arr))\n"
   ]
  },
  {
   "cell_type": "code",
   "execution_count": 61,
   "metadata": {},
   "outputs": [
    {
     "data": {
      "text/plain": [
       "array([[ 9, 12, 15],\n",
       "       [19, 26, 33]])"
      ]
     },
     "execution_count": 61,
     "metadata": {},
     "output_type": "execute_result"
    }
   ],
   "source": [
    "arr2 = np.array([[1,2,3],[4,5,6]])\n",
    "arr.dot(arr2)\n"
   ]
  },
  {
   "cell_type": "code",
   "execution_count": 63,
   "metadata": {},
   "outputs": [
    {
     "data": {
      "text/plain": [
       "array([[False,  True],\n",
       "       [False,  True]])"
      ]
     },
     "execution_count": 63,
     "metadata": {},
     "output_type": "execute_result"
    }
   ],
   "source": [
    "# a^(-1)*a == I ?\n",
    "np.linalg.inv(arr).dot(arr) == np.array([[1,0],[0,1]])"
   ]
  },
  {
   "cell_type": "code",
   "execution_count": 64,
   "metadata": {},
   "outputs": [
    {
     "data": {
      "text/plain": [
       "True"
      ]
     },
     "execution_count": 64,
     "metadata": {},
     "output_type": "execute_result"
    }
   ],
   "source": [
    "np.allclose(np.linalg.inv(arr).dot(arr) , np.array([[1,0],[0,1]]))"
   ]
  },
  {
   "cell_type": "code",
   "execution_count": null,
   "metadata": {},
   "outputs": [],
   "source": []
  }
 ],
 "metadata": {
  "kernelspec": {
   "display_name": "Python 3",
   "language": "python",
   "name": "python3"
  },
  "language_info": {
   "codemirror_mode": {
    "name": "ipython",
    "version": 3
   },
   "file_extension": ".py",
   "mimetype": "text/x-python",
   "name": "python",
   "nbconvert_exporter": "python",
   "pygments_lexer": "ipython3",
   "version": "3.8.5"
  }
 },
 "nbformat": 4,
 "nbformat_minor": 4
}
