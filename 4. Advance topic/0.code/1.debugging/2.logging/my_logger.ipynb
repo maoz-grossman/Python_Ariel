{
 "metadata": {
  "language_info": {
   "codemirror_mode": {
    "name": "ipython",
    "version": 3
   },
   "file_extension": ".py",
   "mimetype": "text/x-python",
   "name": "python",
   "nbconvert_exporter": "python",
   "pygments_lexer": "ipython3",
   "version": "3.6.6-final"
  },
  "orig_nbformat": 2,
  "kernelspec": {
   "name": "python3",
   "display_name": "Python 3",
   "language": "python"
  }
 },
 "nbformat": 4,
 "nbformat_minor": 2,
 "cells": [
  {
   "cell_type": "code",
   "execution_count": 2,
   "metadata": {},
   "outputs": [],
   "source": [
    "import logging\n",
    "\n",
    "#create and configure logger\n",
    "logging.basicConfig(filename= 'my_logging.log')\n",
    "logger = logging.getLogger()\n"
   ]
  },
  {
   "cell_type": "code",
   "execution_count": 1,
   "metadata": {},
   "outputs": [],
   "source": [
    "import logging\n",
    "\n",
    "#create and configure logger\n",
    "logging.basicConfig(filename= 'my_logging.log' ,level= logging.DEBUG)\n",
    "logger = logging.getLogger()\n",
    "\n",
    "# Test the logger\n",
    "logger.info('This is a message')"
   ]
  },
  {
   "cell_type": "code",
   "execution_count": 2,
   "metadata": {},
   "outputs": [
    {
     "output_type": "stream",
     "name": "stdout",
     "text": [
      "INFO:root:This is a message\n\n"
     ]
    }
   ],
   "source": [
    "with open('my_logging.log') as file:\n",
    "    print(file.read())"
   ]
  },
  {
   "cell_type": "code",
   "execution_count": 1,
   "metadata": {},
   "outputs": [],
   "source": [
    "import logging\n",
    "\n",
    "LOGֹֹֹFORMAT = \"%(levelname)s, time: %(asctime)s , line: %(lineno)d- %(message)s \"\n",
    "#create and configure logger\n",
    "logging.basicConfig(filename= 'my_logging.log' ,level= logging.DEBUG, format= LOGֹֹֹFORMAT)\n",
    "logger = logging.getLogger()\n",
    "\n",
    "# Test the logger\n",
    "logger.info('This is a message')"
   ]
  },
  {
   "cell_type": "code",
   "execution_count": 2,
   "metadata": {},
   "outputs": [
    {
     "output_type": "stream",
     "name": "stdout",
     "text": [
      "INFO:root:This is a message\nINFO, time: 2021-01-31 19:54:25,768 , line: 9- This is a message \n\n"
     ]
    }
   ],
   "source": [
    "with open('my_logging.log') as file:\n",
    "    print(file.read())"
   ]
  },
  {
   "cell_type": "code",
   "execution_count": 1,
   "metadata": {
    "tags": []
   },
   "outputs": [
    {
     "output_type": "stream",
     "name": "stdout",
     "text": [
      "INFO, time: 2021-01-31 20:15:16,630 , line: 12- This is a message \n\n"
     ]
    }
   ],
   "source": [
    "import logging\n",
    "\n",
    "LOGֹֹֹFORMAT = \"%(levelname)s, time: %(asctime)s , line: %(lineno)d- %(message)s \"\n",
    "#create and configure logger\n",
    "logging.basicConfig(filename= 'my_logging.log' ,\n",
    "                    level= logging.DEBUG, \n",
    "                    format= LOGֹֹֹFORMAT,\n",
    "                    filemode= 'w')\n",
    "logger = logging.getLogger()\n",
    "\n",
    "# Test the logger\n",
    "logger.info('This is a message')\n",
    "\n",
    "\n",
    "with open('my_logging.log') as file:\n",
    "    print(file.read())\n"
   ]
  },
  {
   "cell_type": "code",
   "execution_count": 5,
   "metadata": {},
   "outputs": [],
   "source": [
    "def quadratic_formula(a:float, b:float ,c:float) -> float:\n",
    "    import math\n",
    "    \"\"\" Returns the solutions to the equation ax^2 + bx + c = 0  \"\"\"\n",
    "    logger.info(f'quadratic_formula({a},{b},{c})')\n",
    "    logger.debug('Compute the discriminant')\n",
    "    discri = b**2 - 4*a*c\n",
    "    logger.debug('Compute the two roots')\n",
    "    root_a = (-b + math.sqrt(discri))/(2*a)\n",
    "    root_b = (-b - math.sqrt(discri))/(2*a)\n",
    "    logger.debug('Return the two roots')\n",
    "    return root_a , root_b\n"
   ]
  },
  {
   "cell_type": "code",
   "execution_count": 7,
   "metadata": {
    "tags": []
   },
   "outputs": [
    {
     "output_type": "stream",
     "name": "stdout",
     "text": [
      "(2.0, -2.0)\nINFO, time: 2021-01-31 20:15:16,630 , line: 12- This is a message \nINFO, time: 2021-01-31 20:16:01,371 , line: 4- quadratic_formula(1,0,-4) \nDEBUG, time: 2021-01-31 20:16:01,372 , line: 5- Compute the discriminant \nDEBUG, time: 2021-01-31 20:16:01,372 , line: 7- Compute the two roots \nDEBUG, time: 2021-01-31 20:16:01,372 , line: 10- Return the two roots \nINFO, time: 2021-01-31 20:16:33,605 , line: 4- quadratic_formula(1,0,-4) \nDEBUG, time: 2021-01-31 20:16:33,605 , line: 5- Compute the discriminant \nDEBUG, time: 2021-01-31 20:16:33,605 , line: 7- Compute the two roots \nDEBUG, time: 2021-01-31 20:16:33,605 , line: 10- Return the two roots \n\n"
     ]
    }
   ],
   "source": [
    "print(quadratic_formula(1,0,-4))\n",
    "print(quadratic_formula(1,0,-4))\n",
    "with open('my_logging.log') as file:\n",
    "    print(file.read())"
   ]
  },
  {
   "cell_type": "code",
   "execution_count": 8,
   "metadata": {},
   "outputs": [
    {
     "output_type": "error",
     "ename": "ValueError",
     "evalue": "math domain error",
     "traceback": [
      "\u001b[1;31m---------------------------------------------------------------------------\u001b[0m",
      "\u001b[1;31mValueError\u001b[0m                                Traceback (most recent call last)",
      "\u001b[1;32m<ipython-input-8-537d663eba59>\u001b[0m in \u001b[0;36m<module>\u001b[1;34m\u001b[0m\n\u001b[1;32m----> 1\u001b[1;33m \u001b[0mprint\u001b[0m\u001b[1;33m(\u001b[0m\u001b[0mquadratic_formula\u001b[0m\u001b[1;33m(\u001b[0m\u001b[1;36m1\u001b[0m\u001b[1;33m,\u001b[0m\u001b[1;36m0\u001b[0m\u001b[1;33m,\u001b[0m\u001b[1;36m1\u001b[0m\u001b[1;33m)\u001b[0m\u001b[1;33m)\u001b[0m\u001b[1;33m\u001b[0m\u001b[0m\n\u001b[0m",
      "\u001b[1;32m<ipython-input-5-9005406be729>\u001b[0m in \u001b[0;36mquadratic_formula\u001b[1;34m(a, b, c)\u001b[0m\n\u001b[0;32m      6\u001b[0m     \u001b[0mdiscri\u001b[0m \u001b[1;33m=\u001b[0m \u001b[0mb\u001b[0m\u001b[1;33m**\u001b[0m\u001b[1;36m2\u001b[0m \u001b[1;33m-\u001b[0m \u001b[1;36m4\u001b[0m\u001b[1;33m*\u001b[0m\u001b[0ma\u001b[0m\u001b[1;33m*\u001b[0m\u001b[0mc\u001b[0m\u001b[1;33m\u001b[0m\u001b[0m\n\u001b[0;32m      7\u001b[0m     \u001b[0mlogger\u001b[0m\u001b[1;33m.\u001b[0m\u001b[0mdebug\u001b[0m\u001b[1;33m(\u001b[0m\u001b[1;34m'Compute the two roots'\u001b[0m\u001b[1;33m)\u001b[0m\u001b[1;33m\u001b[0m\u001b[0m\n\u001b[1;32m----> 8\u001b[1;33m     \u001b[0mroot_a\u001b[0m \u001b[1;33m=\u001b[0m \u001b[1;33m(\u001b[0m\u001b[1;33m-\u001b[0m\u001b[0mb\u001b[0m \u001b[1;33m+\u001b[0m \u001b[0mmath\u001b[0m\u001b[1;33m.\u001b[0m\u001b[0msqrt\u001b[0m\u001b[1;33m(\u001b[0m\u001b[0mdiscri\u001b[0m\u001b[1;33m)\u001b[0m\u001b[1;33m)\u001b[0m\u001b[1;33m/\u001b[0m\u001b[1;33m(\u001b[0m\u001b[1;36m2\u001b[0m\u001b[1;33m*\u001b[0m\u001b[0ma\u001b[0m\u001b[1;33m)\u001b[0m\u001b[1;33m\u001b[0m\u001b[0m\n\u001b[0m\u001b[0;32m      9\u001b[0m     \u001b[0mroot_b\u001b[0m \u001b[1;33m=\u001b[0m \u001b[1;33m(\u001b[0m\u001b[1;33m-\u001b[0m\u001b[0mb\u001b[0m \u001b[1;33m-\u001b[0m \u001b[0mmath\u001b[0m\u001b[1;33m.\u001b[0m\u001b[0msqrt\u001b[0m\u001b[1;33m(\u001b[0m\u001b[0mdiscri\u001b[0m\u001b[1;33m)\u001b[0m\u001b[1;33m)\u001b[0m\u001b[1;33m/\u001b[0m\u001b[1;33m(\u001b[0m\u001b[1;36m2\u001b[0m\u001b[1;33m*\u001b[0m\u001b[0ma\u001b[0m\u001b[1;33m)\u001b[0m\u001b[1;33m\u001b[0m\u001b[0m\n\u001b[0;32m     10\u001b[0m     \u001b[0mlogger\u001b[0m\u001b[1;33m.\u001b[0m\u001b[0mdebug\u001b[0m\u001b[1;33m(\u001b[0m\u001b[1;34m'Return the two roots'\u001b[0m\u001b[1;33m)\u001b[0m\u001b[1;33m\u001b[0m\u001b[0m\n",
      "\u001b[1;31mValueError\u001b[0m: math domain error"
     ]
    }
   ],
   "source": [
    "print(quadratic_formula(1,0,1))"
   ]
  },
  {
   "cell_type": "code",
   "execution_count": 9,
   "metadata": {},
   "outputs": [
    {
     "output_type": "stream",
     "name": "stdout",
     "text": [
      "INFO, time: 2021-01-31 20:15:16,630 , line: 12- This is a message \nINFO, time: 2021-01-31 20:16:01,371 , line: 4- quadratic_formula(1,0,-4) \nDEBUG, time: 2021-01-31 20:16:01,372 , line: 5- Compute the discriminant \nDEBUG, time: 2021-01-31 20:16:01,372 , line: 7- Compute the two roots \nDEBUG, time: 2021-01-31 20:16:01,372 , line: 10- Return the two roots \nINFO, time: 2021-01-31 20:16:33,605 , line: 4- quadratic_formula(1,0,-4) \nDEBUG, time: 2021-01-31 20:16:33,605 , line: 5- Compute the discriminant \nDEBUG, time: 2021-01-31 20:16:33,605 , line: 7- Compute the two roots \nDEBUG, time: 2021-01-31 20:16:33,605 , line: 10- Return the two roots \nDEBUG, time: 2021-01-31 20:16:53,201 , line: 166- pickle loaded: C:\\Users\\user\\AppData\\Roaming\\Python\\Python36\\site-packages\\jedi\\third_party\\typeshed\\stdlib\\2and3\\builtins.pyi \nDEBUG, time: 2021-01-31 20:16:53,251 , line: 166- pickle loaded: C:\\Users\\user\\AppData\\Roaming\\Python\\Python36\\site-packages\\jedi\\third_party\\typeshed\\stdlib\\3\\sys.pyi \nDEBUG, time: 2021-01-31 20:16:55,087 , line: 282- diff parser start \nDEBUG, time: 2021-01-31 20:16:55,087 , line: 293- line_lengths old: 2; new: 2 \nDEBUG, time: 2021-01-31 20:16:55,087 , line: 297- -> code[equal] old[1:1] new[1:1] \nDEBUG, time: 2021-01-31 20:16:55,088 , line: 380- copy old[1:1] new[1:1] \nDEBUG, time: 2021-01-31 20:16:55,088 , line: 297- -> code[replace] old[2:2] new[2:2] \nDEBUG, time: 2021-01-31 20:16:55,088 , line: 425- parse_part from 2 to 2 (to 1 in part parser) \nDEBUG, time: 2021-01-31 20:16:55,088 , line: 339- diff parser end \nDEBUG, time: 2021-01-31 20:16:55,221 , line: 166- pickle loaded: C:\\Program Files (x86)\\Microsoft Visual Studio\\Shared\\Python36_64\\lib\\typing.py \nDEBUG, time: 2021-01-31 20:16:55,246 , line: 166- pickle loaded: C:\\Users\\user\\AppData\\Roaming\\Python\\Python36\\site-packages\\jedi\\third_party\\typeshed\\stdlib\\3\\typing.pyi \nINFO, time: 2021-01-31 20:18:01,342 , line: 4- quadratic_formula(1,0,1) \nDEBUG, time: 2021-01-31 20:18:01,343 , line: 5- Compute the discriminant \nDEBUG, time: 2021-01-31 20:18:01,343 , line: 7- Compute the two roots \n\n"
     ]
    }
   ],
   "source": [
    "with open('my_logging.log') as file:\n",
    "    print(file.read())"
   ]
  },
  {
   "cell_type": "code",
   "execution_count": null,
   "metadata": {},
   "outputs": [],
   "source": []
  }
 ]
}