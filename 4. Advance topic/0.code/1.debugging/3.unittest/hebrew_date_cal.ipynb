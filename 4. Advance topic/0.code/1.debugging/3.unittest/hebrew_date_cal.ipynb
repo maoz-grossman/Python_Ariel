{
 "cells": [
  {
   "cell_type": "code",
   "execution_count": 1,
   "metadata": {},
   "outputs": [],
   "source": [
    "#!/usr/bin/env python\n",
    "# -*- coding: utf-8 -*\n",
    "class Gymatria:\n",
    "\n",
    "    _aleph_beth = None\n",
    "    \n",
    "    def __init__(self,expression:str) -> None:\n",
    "        self._expr = expression\n",
    "        self._expr_value = Gymatria.get_value(expression)\n",
    "    \n",
    "   \n",
    "    @property\n",
    "    def expr_value(self)->int:\n",
    "        return self._expr_value\n",
    "   \n",
    "    @property\n",
    "    def expr(self) -> str:\n",
    "        return self._expr\n",
    "   \n",
    "    @property \n",
    "    def aleph_beth(self):\n",
    "        return Gymatria.get_aleph_beth()\n",
    "    \n",
    "    def __add__(self , other) -> int:\n",
    "        if type(other)== int or type(other)== float:\n",
    "            return self.expr_value + int(other)\n",
    "        return self.expr_value + other.expr_value\n",
    "\n",
    "    def __sub__(self , other) -> int:\n",
    "        if type(other)== int or type(other)== float:\n",
    "            return abs(self.expr_value - int(other))\n",
    "        return abs(self.expr_value - other.expr_value)\n",
    "    \n",
    "    def __mul__(self , other) -> int:\n",
    "        if type(other)== int or type(other)== float:\n",
    "            return abs(self.expr_value * int(other))\n",
    "        return self.expr_value * other.expr_value\n",
    "    \n",
    "    def __str__(self) -> str:\n",
    "        return f\"{self.expr} בגימטריה זה: {self.expr_value}\"\n",
    "    \n",
    "    def __repr__(self) -> str:\n",
    "        return f\"Gymatria({self.expr!r})\"\n",
    "    \n",
    "    def __int__(self) -> int: \n",
    "        return self.expr_value\n",
    "    \n",
    "    def __float__(self) ->float:\n",
    "        return float(self.expr_value)\n",
    "\n",
    "    \n",
    "    \n",
    "    @classmethod\n",
    "    def get_aleph_beth(cls):\n",
    "        if cls._aleph_beth == None:\n",
    "            cls._set_aleph_beth()\n",
    "        return cls.aleph_beth\n",
    "\n",
    "    @classmethod\n",
    "    def get_value(cls,expression:str =None) -> int:\n",
    "        if expression == None:\n",
    "            raise ValueError('invalid type')\n",
    "        aleph_beth = cls.get_aleph_beth()\n",
    "        expr_value = 0\n",
    "        for ot in expression:\n",
    "            if ord('א') <= ord(ot) <= ord('ת'):\n",
    "                expr_value += aleph_beth[ot]\n",
    "        return expr_value\n",
    "        \n",
    "    @classmethod\n",
    "    def ot_sofit(cls, ot: str)-> bool:\n",
    "        cls.otiot_sofiot = ['ץ','ך','ף','ן','ם']\n",
    "        if ot in cls.otiot_sofiot:\n",
    "            return True\n",
    "        return False\n",
    "    \n",
    "    \n",
    "    @classmethod\n",
    "    def _set_aleph_beth(cls) -> None:\n",
    "        ot_num = ord('א')\n",
    "        cls.aleph_beth={}\n",
    "        val = 1\n",
    "        for i in range(27):\n",
    "            cls.aleph_beth[chr(ot_num+i)] = val\n",
    "            if not cls.ot_sofit(chr(ot_num+i)):\n",
    "                if 90 >= val >= 10:\n",
    "                    val+=10\n",
    "                elif val >= 100:\n",
    "                    val+= 100 \n",
    "                else: val+=1\n"
   ]
  },
  {
   "cell_type": "code",
   "execution_count": 2,
   "metadata": {},
   "outputs": [
    {
     "name": "stdout",
     "output_type": "stream",
     "text": [
      "אבא בגימטריה זה: 4\n",
      "אמא בגימטריה זה: 42\n",
      "אבא+אמא בגימטריה = 46\n",
      "אבא-אמא בגימטריה = 38\n",
      "אבא*אמא בגימטריה = 168\n",
      "7\n",
      "11\n"
     ]
    }
   ],
   "source": [
    "aba = Gymatria('אבא')\n",
    "aima = Gymatria('אמא')\n",
    "print(aba)\n",
    "print(aima)\n",
    "print(f'אבא+אמא בגימטריה = {aima+aba}')\n",
    "print(f'אבא-אמא בגימטריה = {aba-aima}')\n",
    "print(f'אבא*אמא בגימטריה = {aima*aba}')\n",
    "print(aba + 3) #=> 7\n",
    "print(aba + 7.5) #=> 11"
   ]
  },
  {
   "cell_type": "code",
   "execution_count": 4,
   "metadata": {},
   "outputs": [
    {
     "name": "stdout",
     "output_type": "stream",
     "text": [
      "אִמָּא בגימטריה זה: 42\n"
     ]
    }
   ],
   "source": [
    "aima_nikud = Gymatria('אִמָּא')\n",
    "print(aima_nikud)"
   ]
  },
  {
   "cell_type": "code",
   "execution_count": 5,
   "metadata": {},
   "outputs": [],
   "source": [
    "aleph = aima.aleph_beth"
   ]
  },
  {
   "cell_type": "code",
   "execution_count": 6,
   "metadata": {},
   "outputs": [
    {
     "name": "stdout",
     "output_type": "stream",
     "text": [
      "{'א': 1, 'ב': 2, 'ג': 3, 'ד': 4, 'ה': 5, 'ו': 6, 'ז': 7, 'ח': 8, 'ט': 9, 'י': 10, 'ך': 20, 'כ': 20, 'ל': 30, 'ם': 40, 'מ': 40, 'ן': 50, 'נ': 50, 'ס': 60, 'ע': 70, 'ף': 80, 'פ': 80, 'ץ': 90, 'צ': 90, 'ק': 100, 'ר': 200, 'ש': 300, 'ת': 400}\n"
     ]
    }
   ],
   "source": [
    "print(aleph)"
   ]
  },
  {
   "cell_type": "code",
   "execution_count": 7,
   "metadata": {},
   "outputs": [],
   "source": [
    "import requests"
   ]
  },
  {
   "cell_type": "code",
   "execution_count": 50,
   "metadata": {},
   "outputs": [],
   "source": [
    "from datetime import datetime\n",
    "import json"
   ]
  },
  {
   "cell_type": "code",
   "execution_count": 26,
   "metadata": {},
   "outputs": [
    {
     "name": "stdout",
     "output_type": "stream",
     "text": [
      "2021-03-04 19:04:16.427901\n",
      "Type :-  <class 'datetime.datetime'>\n",
      "2021\n",
      "3\n",
      "4\n"
     ]
    }
   ],
   "source": [
    "datetime_object = datetime.now()\n",
    "print(datetime_object)\n",
    "print('Type :- ',type(datetime_object))\n",
    "print(datetime_object.year)\n",
    "print(datetime_object.month)\n",
    "print(datetime_object.day)"
   ]
  },
  {
   "cell_type": "code",
   "execution_count": 28,
   "metadata": {},
   "outputs": [],
   "source": [
    "params = {'cfg':'json', 'gy':datetime_object.year,'gm': datetime_object.month, 'gd': datetime_object.day, 'g2h':1}\n",
    "r = requests.get('https://www.hebcal.com/converter?', params= params)"
   ]
  },
  {
   "cell_type": "code",
   "execution_count": 30,
   "metadata": {},
   "outputs": [
    {
     "data": {
      "text/plain": [
       "'https://www.hebcal.com/converter?cfg=json&gy=2021&gm=3&gd=4&g2h=1'"
      ]
     },
     "execution_count": 30,
     "metadata": {},
     "output_type": "execute_result"
    }
   ],
   "source": [
    "r.url"
   ]
  },
  {
   "cell_type": "code",
   "execution_count": 53,
   "metadata": {},
   "outputs": [],
   "source": [
    "heb_date = json.loads(r.text)"
   ]
  },
  {
   "cell_type": "code",
   "execution_count": 54,
   "metadata": {},
   "outputs": [
    {
     "name": "stdout",
     "output_type": "stream",
     "text": [
      "{'gy': 2021, 'gm': 3, 'gd': 4, 'afterSunset': False, 'hy': 5781, 'hm': 'Adar', 'hd': 20, 'hebrew': 'כ׳ בַּאֲדָר תשפ״א', 'events': ['Parashat Ki Tisa']}\n"
     ]
    }
   ],
   "source": [
    "print(heb_date)"
   ]
  },
  {
   "cell_type": "code",
   "execution_count": 57,
   "metadata": {},
   "outputs": [
    {
     "name": "stdout",
     "output_type": "stream",
     "text": [
      "כ׳ בַּאֲדָר תשפ״א\n"
     ]
    }
   ],
   "source": [
    "print(heb_date['hebrew'])"
   ]
  },
  {
   "cell_type": "code",
   "execution_count": null,
   "metadata": {},
   "outputs": [],
   "source": []
  }
 ],
 "metadata": {
  "kernelspec": {
   "display_name": "Python 3",
   "language": "python",
   "name": "python3"
  },
  "language_info": {
   "codemirror_mode": {
    "name": "ipython",
    "version": 3
   },
   "file_extension": ".py",
   "mimetype": "text/x-python",
   "name": "python",
   "nbconvert_exporter": "python",
   "pygments_lexer": "ipython3",
   "version": "3.8.5"
  }
 },
 "nbformat": 4,
 "nbformat_minor": 4
}
