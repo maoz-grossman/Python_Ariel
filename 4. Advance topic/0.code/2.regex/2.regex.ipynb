{
 "metadata": {
  "language_info": {
   "codemirror_mode": {
    "name": "ipython",
    "version": 3
   },
   "file_extension": ".py",
   "mimetype": "text/x-python",
   "name": "python",
   "nbconvert_exporter": "python",
   "pygments_lexer": "ipython3",
   "version": "3.6.6-final"
  },
  "orig_nbformat": 2,
  "kernelspec": {
   "name": "python3",
   "display_name": "Python 3",
   "language": "python"
  }
 },
 "nbformat": 4,
 "nbformat_minor": 2,
 "cells": [
  {
   "cell_type": "code",
   "execution_count": 15,
   "metadata": {},
   "outputs": [],
   "source": [
    "def is_a_phone_number(text:str)->bool:\n",
    "    '''Checks if a string is a valid  phone number '''\n",
    "    # 05x-xxx-xxxx  x ∈ [1,9]\n",
    "    if len(text) != 12:\n",
    "        return False\n",
    "    if text[0:2] != '05':\n",
    "        return False\n",
    "    nums = text.split('-')\n",
    "    if len(nums) != 3:\n",
    "        return False\n",
    "    for num in nums:\n",
    "        if not num.isdecimal():\n",
    "            return False\n",
    "        if num == nums[2] and len(num)!= 4:\n",
    "            return False\n",
    "    return True"
   ]
  },
  {
   "cell_type": "code",
   "execution_count": 45,
   "metadata": {},
   "outputs": [
    {
     "output_type": "execute_result",
     "data": {
      "text/plain": [
       "TestResults(failed=0, attempted=4)"
      ]
     },
     "metadata": {},
     "execution_count": 45
    }
   ],
   "source": [
    "import doctest\n",
    "'''\n",
    ">>> is_a_phone_number('055-555-5555')\n",
    "True\n",
    ">>> is_a_phone_number('055-555-555x')\n",
    "False\n",
    ">>> is_a_phone_number('055-555-555')\n",
    "False\n",
    ">>> is_a_phone_number('phone number')\n",
    "False\n",
    "'''\n",
    "doctest.testmod()"
   ]
  },
  {
   "cell_type": "code",
   "execution_count": 52,
   "metadata": {},
   "outputs": [],
   "source": [
    "from typing import List\n",
    "def find_phone_numbers(text:str)-> List[str]:\n",
    "    '''Finds all phone number in a string '''\n",
    "    list_of_phone_numbers = list()\n",
    "    for i in range(len(text)):\n",
    "        if is_a_phone_number(text[i:i+12]):\n",
    "           list_of_phone_numbers.append(text[i:i+12])\n",
    "    return list_of_phone_numbers\n"
   ]
  },
  {
   "cell_type": "code",
   "execution_count": 53,
   "metadata": {},
   "outputs": [
    {
     "output_type": "execute_result",
     "data": {
      "text/plain": [
       "TestResults(failed=0, attempted=4)"
      ]
     },
     "metadata": {},
     "execution_count": 53
    }
   ],
   "source": [
    "import doctest\n",
    "'''\n",
    ">>> txt ='054-444-4444 gj fdkl055-555-5555mvkdl053-545-4545'\n",
    ">>> find_phone_numbers(txt)\n",
    "['054-444-4444', '055-555-5555', '053-545-4545']\n",
    ">>> txt = 'hjhkd056-666-66666csjkccsd'\n",
    ">>> find_phone_numbers(txt)\n",
    "['056-666-6666']\n",
    "'''\n",
    "doctest.testmod()"
   ]
  },
  {
   "cell_type": "code",
   "execution_count": 82,
   "metadata": {},
   "outputs": [],
   "source": [
    "from typing import List\n",
    "def find_phone_numbers_regex(text:str)-> List[str]: \n",
    "    import re\n",
    "    phone_pattern = re.compile(r'\\d\\d\\d-\\d\\d\\d-\\d\\d\\d\\d')\n",
    "    phones = phone_pattern.findall(text)\n",
    "    return phones\n"
   ]
  },
  {
   "cell_type": "code",
   "execution_count": 83,
   "metadata": {},
   "outputs": [
    {
     "output_type": "execute_result",
     "data": {
      "text/plain": [
       "TestResults(failed=0, attempted=4)"
      ]
     },
     "metadata": {},
     "execution_count": 83
    }
   ],
   "source": [
    "import doctest\n",
    "'''\n",
    ">>> txt ='054-444-4444 gj fdkl055-555-5555mvkdl053-545-4545'\n",
    ">>> find_phone_numbers_regex(txt)\n",
    "['054-444-4444', '055-555-5555', '053-545-4545']\n",
    ">>> txt = 'hjhkd056-666-66666csjkccsd'\n",
    ">>> find_phone_numbers_regex(txt)\n",
    "['056-666-6666']\n",
    "'''\n",
    "doctest.testmod()"
   ]
  },
  {
   "cell_type": "code",
   "execution_count": 92,
   "metadata": {},
   "outputs": [
    {
     "output_type": "stream",
     "name": "stdout",
     "text": [
      "['nooooo', 'no']\nYes, there is at least one match!\n"
     ]
    }
   ],
   "source": [
    "import re\n",
    "\n",
    "txt = \" nooooo or just no that is the question\"\n",
    "\n",
    "#Check if the string contains \"n\" followed by one or more 'o' characters:\n",
    "\n",
    "x = re.findall(r\"no+\", txt)\n",
    "\n",
    "print(x)\n",
    "\n",
    "if x:\n",
    "  print(\"Yes, there is at least one match!\")\n",
    "else:\n",
    "  print(\"No match\")"
   ]
  },
  {
   "cell_type": "code",
   "execution_count": 94,
   "metadata": {},
   "outputs": [
    {
     "output_type": "stream",
     "name": "stdout",
     "text": [
      "['yesss', 'ye']\nYes, there is at least one match!\n"
     ]
    }
   ],
   "source": [
    "import re\n",
    "\n",
    "txt = \"yesss we can ,ye\"\n",
    "\n",
    "#Check if the string contains \"ye\" followed by 0 or more \"s\" characters:\n",
    "\n",
    "x = re.findall(\"yes*\", txt)\n",
    "\n",
    "print(x)\n",
    "\n",
    "if x:\n",
    "  print(\"Yes, there is at least one match!\")\n",
    "else:\n",
    "  print(\"No match\")"
   ]
  },
  {
   "cell_type": "code",
   "execution_count": 84,
   "metadata": {},
   "outputs": [
    {
     "output_type": "stream",
     "name": "stdout",
     "text": [
      "['all']\nYes, there is at least one match!\n"
     ]
    }
   ],
   "source": [
    "import re\n",
    "\n",
    "txt = \"The rain in Spain falls mainly in the plain!\"\n",
    "\n",
    "#Check if the string contains \"a\" followed by exactly two \"l\" characters:\n",
    "\n",
    "x = re.findall(\"al{2}\", txt)\n",
    "\n",
    "print(x)\n",
    "\n",
    "if x:\n",
    "  print(\"Yes, there is at least one match!\")\n",
    "else:\n",
    "  print(\"No match\")"
   ]
  },
  {
   "cell_type": "code",
   "execution_count": 95,
   "metadata": {},
   "outputs": [
    {
     "output_type": "stream",
     "name": "stdout",
     "text": [
      "['yes', 'no']\nYes, there is at least one match!\n"
     ]
    }
   ],
   "source": [
    "import re\n",
    "\n",
    "txt = \"yes we can or no we can't\"\n",
    "\n",
    "#Check if the string contains \"ye\" followed by 0 or more \"s\" characters:\n",
    "\n",
    "x = re.findall(\"yes|no\", txt)\n",
    "\n",
    "print(x)\n",
    "\n",
    "if x:\n",
    "  print(\"Yes, there is at least one match!\")\n",
    "else:\n",
    "  print(\"No match\")"
   ]
  },
  {
   "cell_type": "code",
   "execution_count": 101,
   "metadata": {},
   "outputs": [
    {
     "output_type": "execute_result",
     "data": {
      "text/plain": [
       "[('054', '444-4444'), ('055', '555-5555'), ('053', '545-4545')]"
      ]
     },
     "metadata": {},
     "execution_count": 101
    }
   ],
   "source": [
    "from typing import List\n",
    "def find_phone_numbers_regex(text:str)-> List[str]: \n",
    "    import re\n",
    "    phone_pattern = re.compile(r'(\\d\\d\\d)-(\\d\\d\\d-\\d\\d\\d\\d)')\n",
    "    phones = phone_pattern.findall(text)\n",
    "    return phones\n",
    "\n",
    "txt = '054-444-4444 gj fdkl055-555-5555mvkdl053-545-4545'\n",
    "find_phone_numbers_regex(txt)\n"
   ]
  },
  {
   "cell_type": "code",
   "execution_count": 103,
   "metadata": {},
   "outputs": [
    {
     "output_type": "stream",
     "name": "stdout",
     "text": [
      "pattern 054-444-4444\ndirect 054-444-4444\n"
     ]
    }
   ],
   "source": [
    "pattern = re.compile(r'(\\d\\d\\d)-(\\d\\d\\d-\\d\\d\\d\\d)') \n",
    "pattern_groups = pattern.search(txt)\n",
    "print(f'pattern {pattern_groups.group()}')\n",
    "\n",
    "direct_groups = re.search(r'(\\d\\d\\d)-(\\d\\d\\d-\\d\\d\\d\\d)' , txt)\n",
    "print(f'direct {direct_groups.group()}')\n"
   ]
  },
  {
   "cell_type": "code",
   "execution_count": 111,
   "metadata": {},
   "outputs": [
    {
     "output_type": "stream",
     "name": "stdout",
     "text": [
      "(0, 12)\n054-444-4444 gj fdkl055-555-5555mvkdl053-545-4545\n"
     ]
    }
   ],
   "source": [
    "import re\n",
    "txt = '054-444-4444 gj fdkl055-555-5555mvkdl053-545-4545'\n",
    "span = re.search(r'(\\d\\d\\d)-(\\d\\d\\d-\\d\\d\\d\\d)' , txt)\n",
    "print(span.span())\n",
    "print(span.string)"
   ]
  },
  {
   "cell_type": "code",
   "execution_count": 106,
   "metadata": {},
   "outputs": [
    {
     "output_type": "stream",
     "name": "stdout",
     "text": [
      "['Tom Pythonovitz', ' Tammi Pythonovitz', '']\n"
     ]
    }
   ],
   "source": [
    "phone_number_row = 'Tom Pythonovitz, 055-555-5555 Tammi Pythonovitz, 054-444-4444'\n",
    "list_of_users = re.split(r', \\d\\d\\d-\\d\\d\\d-\\d\\d\\d\\d',       phone_number_row)\n",
    "print(list_of_users)"
   ]
  },
  {
   "cell_type": "code",
   "execution_count": 109,
   "metadata": {},
   "outputs": [
    {
     "output_type": "stream",
     "name": "stdout",
     "text": [
      "The9rain9in9Spain\nThe9rain9in Spain\n"
     ]
    }
   ],
   "source": [
    "import re\n",
    "\n",
    "txt = \"The rain in Spain\"\n",
    "x = re.sub(\"\\s\", \"9\", txt)\n",
    "print(x)\n",
    "\n",
    "y = re.sub(\"\\s\", \"9\", txt, 2)\n",
    "print(y)"
   ]
  },
  {
   "cell_type": "code",
   "execution_count": null,
   "metadata": {},
   "outputs": [],
   "source": []
  }
 ]
}