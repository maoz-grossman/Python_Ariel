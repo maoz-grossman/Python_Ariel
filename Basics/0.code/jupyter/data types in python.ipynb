{
 "cells": [
  {
   "cell_type": "markdown",
   "metadata": {},
   "source": [
    "<div dir=rtl>\n",
    "<h1>מג'אווה לפייתון-טיפוס נתונים</h1> \n",
    "טיפוס נתונים הוא מושג המגדיר מה הערכים שכל סוג של משתנה יכול לקלוט, ובאילו דרכים.\n",
    "בג'אווה לכל משתנה חייב להיות טיפוס נתונים מוגדר מראש כדי שהמהדר יוכל לזהות אותו בזמן קומפילציה, למשל\n",
    "כשנרצה להגדיר משתנה שערכו מספר שלם נשתמש בטיפוס הנתונים int או long , אך בפייתון אין הגדרה למשתנים, וכל\n",
    "משתנה הוא בעצם מטיפוס נתונים אחד- מצביע, כך שהוא יכול להיות כל טיפוס נתונים שהוא, ואף להשתנות בזמן אמת\n",
    "מטיפוס אחד לאחר.\n",
    "זה לא אומר שלא קיימים טיפוסי נתונים נוספים בפייתון , גם לפייתון יש טיפוסי נתונים וניתן גם להגדיר טיפוסים ע\"י בניית\n",
    "מחלקות ופונקציות חדשות, וכדי לזהות את סוג הטיפוס משתמשים בפונקציה ()type שמקבלת כארגומנט משתנה\n",
    "ומחזירה מה הטיפוס שלו..\n",
    "את טיפוסי הנתונים המוגדרים מראש של פייתון ניתן לחלק לכמה קבוצות:\n",
    "    <h3><i>\n",
    "        (NUMERIC TYPES ) מספרים\n",
    "        -\n",
    "        </i></h3>\n",
    "    טיפוסים מסוג מספרים ניתן לחלק לשלושה סוגים: טיפוסי מספרים שלמים שמוכר כ-int ,מספרים ממשיים שמוכר כ-\n",
    "float ,ומספרים מרוכבים (complex numbers)שאנחנו מגדירים אותם עם האות j:\n",
    "</div>"
   ]
  },
  {
   "cell_type": "code",
   "execution_count": 6,
   "metadata": {},
   "outputs": [
    {
     "output_type": "stream",
     "name": "stdout",
     "text": [
      "<class 'int'>\n<class 'float'>\n<class 'complex'>\n"
     ]
    }
   ],
   "source": [
    "print(type(2))\n",
    "print(type(2.0))\n",
    "print(type(2j))"
   ]
  },
  {
   "cell_type": "markdown",
   "metadata": {},
   "source": [
    "<div dir=rtl>\n",
    "    <h3><i>Boolean- </i></h3> \n",
    "משתנים בוליאניים המוכרים לנו מג'אווה מהווים טיפוס עצמאי בפייתון שערכו הוא 'אמת' או 'שקר'.\n",
    "בניגוד לג'אווה, מציינים את המשתנים באותיות גדולות בתחילת המילה כך שערך אמת הוא בעצם True ושקר הוא False:\n",
    "</div>"
   ]
  },
  {
   "cell_type": "code",
   "execution_count": 7,
   "metadata": {},
   "outputs": [
    {
     "output_type": "execute_result",
     "data": {
      "text/plain": [
       "bool"
      ]
     },
     "metadata": {},
     "execution_count": 7
    }
   ],
   "source": [
    "type(True)"
   ]
  },
  {
   "cell_type": "markdown",
   "metadata": {},
   "source": [
    "<div dir=rtl>\n",
    "    <h3><i>מחרוזות</i></h3>\n",
    "    בפייתון אין טיפוס מסוג char אך יש מחרוזות.\n",
    "    <br>\n",
    "את המחרוזות בפייתון ניתן להגדיר או במרכאות כפולות(\") או במרכאות רגילות('), ואין העדפה בין שתיהן, ובלבד שיהיה\n",
    "אחידות בקוד.\n",
    "    <br>\n",
    "הסיבה שניתן להשתמש בשני סוגי המרכאות הוא בשביל שימוש של אחד מהתווים (\" או ') תוך כדי כתיבת מחרוזת ללא\n",
    "שימוש ב-\\ ,מה שמכער את הקוד, וכבר ראינו כמה נראות היא ערך עליון במניפסט של פייתון\n",
    "    .\n",
    "    :כך למשל נוכל לכתוב\n",
    " \" I don't care\" \n",
    "    במקום לכתוב: \n",
    "    'I don\\'t care'\n",
    "    <br>\n",
    "פייתון היא שפה שרגישה להזחות והורדת שורות, לכן ,בניגוד לג'אווה, הגדרה של מחרוזת רגילה תעשה בשורה אחת, אך\n",
    "ניתן להגדיר גם מחרוזות של כמה שורות עם שלושה מרכאות פותחות ושלושה סוגרות: \n",
    "</div>"
   ]
  },
  {
   "cell_type": "code",
   "execution_count": 8,
   "metadata": {},
   "outputs": [
    {
     "output_type": "stream",
     "name": "stdout",
     "text": [
      "This is going to be a realy long string,\n way more than the usual \n"
     ]
    }
   ],
   "source": [
    "string= \"\"\"This is going to be a realy long string,\n",
    " way more than the usual \"\"\" \n",
    "print(string) "
   ]
  },
  {
   "cell_type": "markdown",
   "metadata": {},
   "source": [
    "<div dir=rtl>\n",
    "    <i></i>\n",
    "</div>"
   ]
  },
  {
   "cell_type": "markdown",
   "metadata": {},
   "source": [
    "<div dir=rtl>\n",
    "    <h6>אופרטורים של מחרוזות-</h6>\n",
    "    למחרוזות יש שני אופרטורים מיוחדים- שרשור וחזקה.\n",
    "    <br>\n",
    "    שרשרות מאפשר לנו לחבר בין כמה מחרוזות ולקבל מחרוזת חדשה: \n",
    "</div>"
   ]
  },
  {
   "cell_type": "code",
   "execution_count": 9,
   "metadata": {},
   "outputs": [
    {
     "output_type": "stream",
     "name": "stdout",
     "text": [
      "Hello World\n"
     ]
    }
   ],
   "source": [
    "str1= \"Hello \"\n",
    "str2=\"World\"\n",
    "str3= str1+str2\n",
    "print(str3)"
   ]
  },
  {
   "cell_type": "markdown",
   "metadata": {},
   "source": [
    "<div dir=rtl>\n",
    "    חזקה מאפשר לשרשר את המחרוזת לעצמה כמה פעמים:\n",
    "</div>"
   ]
  },
  {
   "cell_type": "code",
   "execution_count": 10,
   "metadata": {},
   "outputs": [
    {
     "output_type": "stream",
     "name": "stdout",
     "text": [
      "aaaa\n"
     ]
    }
   ],
   "source": [
    "a= 'a'\n",
    "print(a*4)"
   ]
  },
  {
   "cell_type": "markdown",
   "metadata": {},
   "source": [
    "<div dir=rtl>\n",
    "    <h6>פונקציות של מחרוזות-</h6>\n",
    "    מחרוזות הן אובייקט שלא ניתן לשנות ישירות בדומה למחרוזות בשפה C( נראה בהמשך(, אך כן\n",
    "ישנן פונקציות של המחלקה str שמשנות את ערך המחרוזות, למשל הפונקציה ()upper שמחזירה את אותה מחרוזת\n",
    "באותיות גדולות, או הפונקציה replace שמקבלת שתי תתי מחרוזות ,אחת מתוך המחרוזות המקורית והשנייה מחליפה\n",
    "אותה:\n",
    "</div>"
   ]
  },
  {
   "cell_type": "code",
   "execution_count": 11,
   "metadata": {},
   "outputs": [
    {
     "output_type": "stream",
     "name": "stdout",
     "text": [
      "Bye World\n",
      "HELLO WORLD\n"
     ]
    }
   ],
   "source": [
    "string= \"Hello World\"\n",
    "print(string.replace(\"Hello\",\"Bye\"))\n",
    "print(string.upper())\n"
   ]
  },
  {
   "cell_type": "markdown",
   "metadata": {},
   "source": [
    "<div dir=rtl>\n",
    "  הפונקציות לא מחליפות את המחרוזת המקורית אלא מחזירות מחרוזת חדשה.\n",
    "    <br>\n",
    "ניתן למצוא את הרשימה המלאה של פונקציות המחלקה כאן:\n",
    "    <br>\n",
    "    <a herf= https://www.w3schools.com/python/python_ref_string.asp> https://www.w3schools.com/python/python_ref_string.asp</a>\n",
    "</div>\n",
    "\n"
   ]
  },
  {
   "cell_type": "markdown",
   "metadata": {},
   "source": [
    "<div dir= rtl>\n",
    "    <br>\n",
    "    <h6>F string</h6>\n",
    "        לפעמים נרצה לבנות את המחרוזת שלנו כך שתכיל בתוכה משתנים שהגדרנו קודם לכן.\n",
    "    <br>\n",
    "בשיטה הישנה היינו פשוט משרשרים למחרוזת משתנים: \n",
    "    </div>"
   ]
  },
  {
   "cell_type": "code",
   "execution_count": 12,
   "metadata": {},
   "outputs": [
    {
     "output_type": "execute_result",
     "data": {
      "text/plain": [
       "'Hello Tuna.'"
      ]
     },
     "metadata": {},
     "execution_count": 12
    }
   ],
   "source": [
    "name = \"Tuna\"\n",
    "str = \"Hello \" +name+ \".\"\n",
    "str"
   ]
  },
  {
   "cell_type": "markdown",
   "metadata": {},
   "source": [
    "<div dir=rtl>\n",
    "    זאת שיטה מעולה אם אין הרבה משתנים מסוגים שונים, אך אם רוצים לערב הרבה משתנים שחלקם מטיפוסי נתונים\n",
    "שונים , יש צורך בשרשור ארוך עם המרות של משתנים, מה שהרבה פעמים לא נראה טוב ולא עולה בקנה אחד עם\n",
    "המניפסט של פייתון.\n",
    "    <br>\n",
    "לכן מפתחי השפה הוסיפו שיטה לכתוב מחרוזות בפורמט נח יותר ע\"י המתודה ()format שעובדת בצורה דומה ל-printf\n",
    "של c, רק שהמשתנים נכתבים עם סוגרים מסולסלים במקום בתווים כמו 'd: '%\n",
    "</div>"
   ]
  },
  {
   "cell_type": "code",
   "execution_count": 13,
   "metadata": {},
   "outputs": [
    {
     "output_type": "stream",
     "name": "stdout",
     "text": [
      "Hello, Eric Idle. You are 74. You are a comedian. You were a member of Monty Python.\n"
     ]
    }
   ],
   "source": [
    "first_name = \"Eric\"\n",
    "last_name = \"Idle\"\n",
    "age = 74\n",
    "profession = \"comedian\"\n",
    "affiliation = \"Monty Python\"\n",
    "print((\"Hello, {first_name} {last_name}. You are {age}. \" +\n",
    "\"You are a {profession}. You were a member of {affiliation}.\") \\\n",
    " .format(first_name=first_name, last_name=last_name, age=age, \\\n",
    "profession=profession, affiliation=affiliation))\n"
   ]
  },
  {
   "cell_type": "markdown",
   "metadata": {},
   "source": [
    "<div dir=rtl>\n",
    "    בסוגרים מכריזים על שמות המשתנים שיופיעו, וב- '()format '.מציינים איזה ערך יש לכל משתנה במחרוזת.\n",
    "    <br>\n",
    "כפי שניתן לראות המתודה פתרה כמה בעיות נראות, אך עדיין מוסיפים הרבה קוד מיותר וארוך ,ובאמת החל מפייתון 6.3\n",
    "נוספה טכניקה חדשה לשפה- fstring ,שהיא בדיוק כמו המתודה פורמט, רק שהיא לא מחכה לפרמטרים:\n",
    "</div>"
   ]
  },
  {
   "cell_type": "code",
   "execution_count": 14,
   "metadata": {},
   "outputs": [
    {
     "output_type": "stream",
     "name": "stdout",
     "text": [
      "Hello, Eric Idle. You are 74.You are a comedian. You were a member of Monty Python.\n"
     ]
    }
   ],
   "source": [
    "first_name = \"Eric\"\n",
    "last_name = \"Idle\"\n",
    "age = 74\n",
    "profession = \"comedian\"\n",
    "affiliation = \"Monty Python\"\n",
    "print(f\"Hello, {first_name} {last_name}. You are {age}.\" +\n",
    "        f\"You are a {profession}. You were a member of {affiliation}.\")"
   ]
  },
  {
   "cell_type": "markdown",
   "metadata": {},
   "source": [
    "<div dir= 'rtl'>\n",
    "    עם fstring ניתן גם לבצע פעולות בתוך הגדרת המחרוזת והתוצאה תושם במחרוזת:\n",
    "    </div>"
   ]
  },
  {
   "cell_type": "code",
   "execution_count": 15,
   "metadata": {},
   "outputs": [
    {
     "output_type": "stream",
     "name": "stdout",
     "text": [
      "455*698 = 317590\n"
     ]
    }
   ],
   "source": [
    "print(f\"455*698 = {455*698}\")"
   ]
  },
  {
   "cell_type": "markdown",
   "metadata": {},
   "source": [
    "<div dir ='rtl'>\n",
    "    ניתן גם להגדיר מחרוזות ארוכות ב-fstring:\n",
    "    </div>"
   ]
  },
  {
   "cell_type": "code",
   "execution_count": 16,
   "metadata": {},
   "outputs": [
    {
     "output_type": "stream",
     "name": "stdout",
     "text": [
      "\n Hi Tuna.\n You are a comedian.\n You were in Monty Python.\n\n"
     ]
    }
   ],
   "source": [
    "message = f\"\"\"\n",
    " Hi {name}.\n",
    " You are a {profession}.\n",
    " You were in {affiliation}.\n",
    "\"\"\"\n",
    "print(message)"
   ]
  },
  {
   "source": [
    "<div dir ='rtl'>\n",
    "    וגם באיזה פורמט להציג את המשתנים: \n",
    "    </div>"
   ],
   "cell_type": "markdown",
   "metadata": {}
  },
  {
   "cell_type": "code",
   "execution_count": 2,
   "metadata": {},
   "outputs": [
    {
     "output_type": "stream",
     "name": "stdout",
     "text": [
      "val .2f: 12.30\nval .5f: 12.30000\nhexadecimal a :12c\noctal a :454\nscientific a :3.000000e+02\n"
     ]
    }
   ],
   "source": [
    "val = 12.3\n",
    "print(f'val .2f: {val:.2f}')\n",
    "#12.30\n",
    "print(f'val .5f: {val:.5f}')\n",
    "#12.30000\n",
    "\n",
    "a = 300\n",
    "\n",
    "print(f\"hexadecimal a :{a:x}\")\n",
    "# 12c\n",
    "print(f\"octal a :{a:o}\")\n",
    "# 454\n",
    "print(f\"scientific a :{a:e}\")\n",
    "#3.000000e+02\n"
   ]
  },
  {
   "cell_type": "markdown",
   "metadata": {},
   "source": [
    "<div dir ='rtl'>\n",
    "    <h3>מבני נתונים-</h3>\n",
    "    הערה: במסמך זה לא נתעמק בפונקציות של מבני נתונים שונים, זה יעשה במסמך \"מבנה נתונים בפייתון\".\n",
    "    <br>\n",
    "    מבנה נתונים הוא דרך לאחסון כמות נתונים במשתנה אחד.\n",
    "    <br>\n",
    "בג'אווה יש רק סוג אחד של מבנה נתונים שלא מצריך ייבוא של ספריות מיוחדות והוא מערך.\n",
    "    <br>\n",
    "גם מחרוזת של ג'אווה היא בעצם סוג של מערך של תווים.\n",
    "    <br>\n",
    "לפייתון יש מגוון גדול יותר של מבנה נתונים המגיעים עם השפה, וניתן לחלק אותם לקבוצות:\n",
    "    <br><br>\n",
    "    רצפים- נקראים כך משום שהם רציפים בזיכרון, וכוללים: tuple ו-list, שהם בעצם סוג של מערך כמו בג'אווה, רק שאפשר\n",
    "להכניס להם ערכים מכמה מטיפוס נתונים בכל אינסטנס של אובייקט.\n",
    "    <br>\n",
    "    כך למשל ניתן לבנות רשימה שבנויה מאינטג'רים ומחרוזות למרות שהם מטיפוסי נתונים שונים. \n",
    "    <br>\n",
    "    ההבדל העיקרי בין tuple ו-list הוא שרשימה היא mutable כלומר ניתנת לשינוי ו-tuple הוא immutable כלומר איך\n",
    "שהוא מוגדר כך הוא יישאר (נראה בהמשך מה ההבדל המהותי בין השניים).\n",
    "    <br>\n",
    "בשביל ליצור אובייקט מטיפוס רשימה נצטרך לעטוף רצף של אובייקטים שמופרדים ב-',' עם סוגרים מרובעים, וב-tuple\n",
    "האובייקטים עטופים בסוגריים עגולים: \n",
    "    </div>"
   ]
  },
  {
   "cell_type": "code",
   "execution_count": 17,
   "metadata": {},
   "outputs": [
    {
     "output_type": "stream",
     "name": "stdout",
     "text": [
      "<class 'list'>\n<class 'tuple'>\n"
     ]
    }
   ],
   "source": [
    "lst = [1 ,'2' ,3.0]\n",
    "tup =(1 ,'2' ,3.0)\n",
    "print(type(lst))\n",
    "print(type(tup))\n"
   ]
  },
  {
   "cell_type": "markdown",
   "metadata": {},
   "source": [
    "<div dir ='rtl'>\n",
    "    לרצפים יש אופרטורים ייחודים להם:[] – בשביל לראות ערך ספציפי, ובניגוד למערך בג'אווה אפשר להתחיל מהסוף ע\"י\n",
    "הכנסה של ערך שלילי לסוגריים; [ : ]- בשביל לראות מערך ספציפי עד ערך ספציפי אם לא מגדירים ערך בצד הימני של\n",
    "הנקודתיים הערך הדיפולטיבי הוא עד סוף האוסף, ואם לא מגדירים בצד השמאלי הערך הוא תחילת האוסף; [ : : ]-\n",
    "בשביל לראות מערך ספציפי עד ערך ספציפי עם קפיצה מסוימת: \n",
    "    </div>"
   ]
  },
  {
   "cell_type": "code",
   "execution_count": 18,
   "metadata": {},
   "outputs": [
    {
     "output_type": "stream",
     "name": "stdout",
     "text": [
      "1\n5\n[1, 2]\n[1, 3, 5]\n"
     ]
    }
   ],
   "source": [
    "lst=[1,2,3,4,5]\n",
    "print(lst[0])\n",
    "print(lst[-1]) #the last cell of the list\n",
    "print(lst[0:2]) #from lst[0] to lst[2]\n",
    "print(lst[0::2])\n"
   ]
  },
  {
   "cell_type": "markdown",
   "metadata": {},
   "source": [
    "<div dir ='rtl'>\n",
    "    מחרוזת היא סוג של tuple, היא כמין tuple רק של מחרוזות בגודל אחד, וכל אופרציה שניתן לבצע על רצפים ניתן לבצע\n",
    "גם במחרוזת, למשל להגיע לתו השלישי : [2]string ,או לקפוץ בין תווים של המחרוזת: [2:3:0]string.\n",
    "רק לרשימה ניתן להוסיף פריטים חדשים ולהסיר, באמצעות המתודה ()append( שמוסיפה איבר לסוף הרשימה), ו-\n",
    "()remove של המחלקה list: \n",
    "    </div>"
   ]
  },
  {
   "cell_type": "code",
   "execution_count": 19,
   "metadata": {},
   "outputs": [
    {
     "output_type": "execute_result",
     "data": {
      "text/plain": [
       "[2, 3, 5, 7]"
      ]
     },
     "metadata": {},
     "execution_count": 19
    }
   ],
   "source": [
    "prime_lst=[1,2,3,5]\n",
    "prime_lst.append(7)\n",
    "prime_lst.remove(1)\n",
    "prime_lst\n"
   ]
  },
  {
   "cell_type": "markdown",
   "metadata": {},
   "source": [
    "<div dir ='rtl'>\n",
    "sets -סט הוא אוסף של נתונים לא רציפים בזיכרון ולא ממוינים.\n",
    "כל איבר בסט הוא ייחודי )אין חזרתיות של אברים( וחייב להיות בלתי ניתן לשינוי )immutable,)אבל הסט עצמו הוא לא\n",
    "משתנה immutable.\n",
    "    <br>\n",
    "בפייתון מכריזים על סט בדיוק כמו שמכריזים על רשימה או tuple רק עם סוגריים מסולסלים:\n",
    "    </div>"
   ]
  },
  {
   "cell_type": "code",
   "execution_count": 20,
   "metadata": {},
   "outputs": [],
   "source": [
    "my_set = {1, 2, 3}\n"
   ]
  },
  {
   "cell_type": "markdown",
   "metadata": {},
   "source": [
    "<div dir ='rtl' >\n",
    "    בכל סט ניתן להכניס מס איברים ככמות הזיכרון, ואין הגבלה על סוג מסוים של טיפוסים ובלבד שיהיו טיפוס immutaple\n",
    ", כלומר לא ניתן להכניס רשימה או מילון, או סט עצמו למשל:\n",
    "    </div>"
   ]
  },
  {
   "cell_type": "code",
   "execution_count": 21,
   "metadata": {},
   "outputs": [
    {
     "output_type": "stream",
     "name": "stdout",
     "text": [
      "{1, '4', (2, 3)}\n"
     ]
    },
    {
     "output_type": "error",
     "ename": "TypeError",
     "evalue": "unhashable type: 'list'",
     "traceback": [
      "\u001b[1;31m---------------------------------------------------------------------------\u001b[0m",
      "\u001b[1;31mTypeError\u001b[0m                                 Traceback (most recent call last)",
      "\u001b[1;32m<ipython-input-21-4acdbced58d3>\u001b[0m in \u001b[0;36m<module>\u001b[1;34m\u001b[0m\n\u001b[0;32m      1\u001b[0m \u001b[0mmy_set\u001b[0m\u001b[1;33m=\u001b[0m \u001b[1;33m{\u001b[0m\u001b[1;36m1\u001b[0m \u001b[1;33m,\u001b[0m\u001b[1;33m(\u001b[0m\u001b[1;36m2\u001b[0m \u001b[1;33m,\u001b[0m\u001b[1;36m3\u001b[0m\u001b[1;33m)\u001b[0m\u001b[1;33m,\u001b[0m \u001b[1;34m'4'\u001b[0m\u001b[1;33m}\u001b[0m \u001b[1;31m# => OK\u001b[0m\u001b[1;33m\u001b[0m\u001b[0m\n\u001b[0;32m      2\u001b[0m \u001b[0mprint\u001b[0m\u001b[1;33m(\u001b[0m\u001b[0mmy_set\u001b[0m\u001b[1;33m)\u001b[0m\u001b[1;33m\u001b[0m\u001b[0m\n\u001b[1;32m----> 3\u001b[1;33m \u001b[0mmy_set\u001b[0m \u001b[1;33m=\u001b[0m \u001b[1;33m{\u001b[0m\u001b[1;36m1\u001b[0m\u001b[1;33m,\u001b[0m\u001b[1;33m[\u001b[0m\u001b[1;36m2\u001b[0m\u001b[1;33m,\u001b[0m\u001b[1;36m3\u001b[0m\u001b[1;33m]\u001b[0m\u001b[1;33m,\u001b[0m\u001b[1;34m'4'\u001b[0m\u001b[1;33m}\u001b[0m \u001b[1;31m# => ERROR\u001b[0m\u001b[1;33m\u001b[0m\u001b[0m\n\u001b[0m",
      "\u001b[1;31mTypeError\u001b[0m: unhashable type: 'list'"
     ]
    }
   ],
   "source": [
    "my_set= {1 ,(2 ,3), '4'} # => OK\n",
    "print(my_set)\n",
    "my_set = {1,[2,3],'4'} # => ERROR\n"
   ]
  },
  {
   "cell_type": "markdown",
   "metadata": {},
   "source": [
    "<div dir ='rtl'>\n",
    "    בשביל ליצור סט ריק\n",
    "    <b>לא</b>\n",
    "    ניתן להשתמש בסוגריים מסולסלים ריקים, כי זאת קריאה למילון ריק, במקום נשתמש\n",
    "בקונסטרקטור ריק של סט:\n",
    "    </div>"
   ]
  },
  {
   "cell_type": "code",
   "execution_count": 8,
   "metadata": {},
   "outputs": [
    {
     "name": "stdout",
     "output_type": "stream",
     "text": [
      "a=<class 'dict'> , b= <class 'set'>\n"
     ]
    }
   ],
   "source": [
    "a = {}\n",
    "b = set()\n",
    "print(f\"a={type(a)} , b= {type(b)}\")"
   ]
  },
  {
   "cell_type": "markdown",
   "metadata": {},
   "source": [
    "<div dir ='rtl'>\n",
    "    סטים הם אובייקטים הניתנים לשינוי , אך משום שאינם מסודרים בצורה רציפה אין משמעות לאינדקסים ,לכן לא נוכל\n",
    "לגשת או לשנות איבר ספציפי בסט כפי שהיינו עושים ברשימה.\n",
    "    <br>\n",
    "אך ניתן להוסיף אלמנטים נוספים עם הפונקציה ()add ,או אם נרצה להוסיף את אלמנטים מתוך רשימה או מסט אחר (או\n",
    "כל אובייקט אוסף mutable )נוכל להשתמש בפונקציה ()update: \n",
    "    </div>"
   ]
  },
  {
   "cell_type": "code",
   "execution_count": 9,
   "metadata": {},
   "outputs": [
    {
     "data": {
      "text/plain": [
       "{(3, 2), 1, 4, 5}"
      ]
     },
     "execution_count": 9,
     "metadata": {},
     "output_type": "execute_result"
    }
   ],
   "source": [
    "my_set = {1}\n",
    "my_set.add((3,2))\n",
    "my_set.update([4,5])\n",
    "my_set"
   ]
  },
  {
   "cell_type": "markdown",
   "metadata": {
    "direction": "rtl"
   },
   "source": [
    "<div dir= 'rtl'>\n",
    "מילון- מילון הוא אוסף לא רציף של נתונים, שערכיו מסודרים לפי מפתח וערך.\n",
    "<br>\n",
    "בג'אווה מילון מוכר כטבלת גיבוב (table hash).\n",
    "<br>\n",
    "המילון הוא אופטימלי להחזרת ערכים בסיבוכיות נמוכה כאשר ידוע המפתחות שלהם.\n",
    "<br>\n",
    "הכרזה על מילון דומה להכרזה על סט, אך כל איבר במילון בנוי משני חלקים, חלק ראשון הוא המפתח- איזשהו משתנה\n",
    "(שחייב להיות מטיפוס נתונים ממשפחת ה-immutable ,)נקודתיים ומשתנה \"ערך\" שיכול להיות מכל טיפוס שהוא.\n",
    "<br>\n",
    "כדי לקבל ערך מסוים מהמילון נשתמש האופרטור '[ ]' , ונכניס לתוכו את הפתח:\n",
    "</div>"
   ]
  },
  {
   "cell_type": "code",
   "execution_count": 20,
   "metadata": {},
   "outputs": [
    {
     "data": {
      "text/plain": [
       "'some value'"
      ]
     },
     "execution_count": 20,
     "metadata": {},
     "output_type": "execute_result"
    }
   ],
   "source": [
    "my_dict= {\"some key\": \"some value\", 'other key': 1, (1,2): \"tuple key\"}\n",
    "val = my_dict[\"some key\"]\n",
    "val"
   ]
  },
  {
   "cell_type": "markdown",
   "metadata": {
    "direction": "rtl"
   },
   "source": [
    "<div dir='rtl'>\n",
    "שינוי ערכים יהיה כמו ברשימות רק שבמקום אינדקס מכניסים את המפתח:\n",
    "</div>"
   ]
  },
  {
   "cell_type": "code",
   "execution_count": 21,
   "metadata": {},
   "outputs": [
    {
     "data": {
      "text/plain": [
       "2"
      ]
     },
     "execution_count": 21,
     "metadata": {},
     "output_type": "execute_result"
    }
   ],
   "source": [
    "my_dict['other key'] = 2\n",
    "my_dict['other key']"
   ]
  },
  {
   "cell_type": "markdown",
   "metadata": {},
   "source": [
    "<div dir='rtl'>\n",
    "בשביל להוסיף ערך חדש למילון צריך להגדיר לו מפתח ולשים לו את הערך שאותו נרצה:\n",
    "</div>"
   ]
  },
  {
   "cell_type": "code",
   "execution_count": 22,
   "metadata": {},
   "outputs": [
    {
     "name": "stdout",
     "output_type": "stream",
     "text": [
      "{'some key': 'some value', 'other key': 2, (1, 2): 'tuple key'}\n",
      "{'some key': 'some value', 'other key': 2, (1, 2): 'tuple key', 'my_key': 2}\n"
     ]
    }
   ],
   "source": [
    "print(my_dict)\n",
    "my_dict[\"my_key\"]=2\n",
    "print(my_dict)"
   ]
  },
  {
   "cell_type": "markdown",
   "metadata": {},
   "source": [
    "<div dir='rtl'>\n",
    "על כל אחד ממבנה הנתונים ניתן להשתמש בפונקציה ()len בשביל לקבל את אורך האוסף (כמה אלמנטים יש לו):\n",
    "</div>"
   ]
  },
  {
   "cell_type": "code",
   "execution_count": 28,
   "metadata": {},
   "outputs": [
    {
     "name": "stdout",
     "output_type": "stream",
     "text": [
      "\n",
      "2,\n",
      "2,\n",
      "3,\n",
      "2,\n",
      "2\n",
      "\n"
     ]
    }
   ],
   "source": [
    "my_dict = {\"some key\":1, 'other key': 2}\n",
    "my_set = {1 ,2}\n",
    "my_str = \"1,2\"\n",
    "my_lst = [1,2]\n",
    "my_tup = (1,2)\n",
    "message = f\"\"\"\n",
    "{len(my_dict)},\n",
    "{len(my_lst)},\n",
    "{len(my_str)},\n",
    "{len(my_tup)},\n",
    "{len(my_set)}\n",
    "\"\"\"\n",
    "print(message)"
   ]
  },
  {
   "source": [
    "<div dir='rtl'>\n",
    "ניסיון\n",
    "</div>"
   ],
   "cell_type": "markdown",
   "metadata": {}
  },
  {
   "source": [],
   "cell_type": "code",
   "metadata": {},
   "execution_count": null,
   "outputs": []
  }
 ],
 "metadata": {
  "direction": "rtl",
  "kernelspec": {
   "display_name": "Python 3",
   "language": "python",
   "name": "python3"
  },
  "language_info": {
   "codemirror_mode": {
    "name": "ipython",
    "version": 3
   },
   "file_extension": ".py",
   "mimetype": "text/x-python",
   "name": "python",
   "nbconvert_exporter": "python",
   "pygments_lexer": "ipython3",
   "version": "3.6.6-final"
  }
 },
 "nbformat": 4,
 "nbformat_minor": 4
}