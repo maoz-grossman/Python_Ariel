{
 "cells": [
  {
   "cell_type": "markdown",
   "metadata": {
    "id": "aQ3NDq8OLehk"
   },
   "source": [
    "\n",
    "<div dir=rtl>\n",
    "<h1>\n",
    "<b><i>\n",
    "פונקציות\n",
    "</i></b>\n",
    "</h1>\n",
    " בחתימה של פונקציות ג'אווה יש ארבעה חלקים: סוג הפונקציה(פרטית, ציבורית..), ערך החזרה, שם הפונקציה ופרמטרים, ואח\"כ יבוא בלוק הקוד של הפונקציה. \n",
    "מתי שהפונקציה מוגדרת void אין ערך חזרה, וכאשר מגדירים ערך חזרה ספציפי מגדירים אותו בראש הפונקציה כך:\n",
    "</div>\n",
    "\n",
    "\n",
    "```\n",
    "public static void print_upper(String str)  //The function doesn't return value\n",
    "{\n",
    "   System.out.print(str.toUpperCase());\n",
    "}\n",
    "\n",
    "public static String return_upper(String str) //Returns String \n",
    "{\n",
    "  upper_str= str.toUpperCase();\n",
    " return upper_str;\n",
    "}\n",
    "```\n",
    "<div dir=rtl>\n",
    "כמו כן ,היות וכל מסמך בג'אווה הוא מחלקה, אז ניתן להגדיר אם הפונקציה היא פרטית או ציבורית, כלומר האם אפשר להשתמש בפונקציה גם ב-modules חיצוניים, או רק במחלקה עצמה.\n",
    "<br>\n",
    "כפי שכבר יצא לנו לראות קובץ פייתון שונה ממבנה קובץ ג'אווה, וניתן להגדיר פונקציות ומשתנים מחוץ למסגרת המחלקה, בדומה לפונקציות בשפות תכנות כמו c++.\n",
    "חתימה של פונקציה בפייתון מחולקת לשלושה חלקים, שהם בעצם שתיים: החלק הראשון הוא להגדיר שעכשיו אנחנו כותבים פונקציה עם-def (כלומר הפונקציה defined), כמו שצריך להגדיר על לולאות ותנאים, גם כאן צריך להגדיר למתכנתים אחרים שהבלוק הבא שיבוא הוא פונקציה; החלק השני הוא שם הפונקציה, והשלישי והאחרון הוא הפרמטרים של הפונקציה, אח\"כ יבוא הבלוק שבו תוגדר הפונקציה: \n",
    "</div>\n",
    "\n"
   ]
  },
  {
   "cell_type": "code",
   "execution_count": null,
   "metadata": {
    "colab": {
     "base_uri": "https://localhost:8080/"
    },
    "id": "pGzdymhZL4qt",
    "outputId": "eb2609d4-f632-4a1f-e766-a77efdfc5a5a"
   },
   "outputs": [
    {
     "name": "stdout",
     "output_type": "stream",
     "text": [
      "HELLO\n"
     ]
    }
   ],
   "source": [
    "def print_upper_str(string):\n",
    "  print(string.upper())\n",
    "\n",
    "print_upper_str(\"hello\")"
   ]
  },
  {
   "cell_type": "markdown",
   "metadata": {
    "id": "PEq7mqTkNnzr"
   },
   "source": [
    "<div dir=rtl>\n",
    "כשרוצים להחזיר ערך מוגדר מהפונקציה גם משתמשים במילה השמורה return: \n",
    "</div>"
   ]
  },
  {
   "cell_type": "code",
   "execution_count": null,
   "metadata": {
    "colab": {
     "base_uri": "https://localhost:8080/"
    },
    "id": "TKASFGVXN4Ub",
    "outputId": "2e8a28e1-b9b9-4dc6-9249-167b774f3141"
   },
   "outputs": [
    {
     "name": "stdout",
     "output_type": "stream",
     "text": [
      "WHAT THE FUCTION RETURNS?\n"
     ]
    }
   ],
   "source": [
    "def return_upper_str(string):\n",
    " return string.upper()\n",
    "\n",
    "print(return_upper_str(\"what the fuction returns?\"))"
   ]
  },
  {
   "cell_type": "markdown",
   "metadata": {
    "id": "8Gf66BoaN6fd"
   },
   "source": [
    "<div dir=rtl>\n",
    "אבל בניגוד לג'אווה פונקציות\n",
    " <b> תמיד</b>\n",
    "  מחזירות ערך ו-return רק מגדיר מה הערך המוחזר, במידה ולא הגדרנו הערך המוחזר יהיה אובייקט מטיפוס None:\n",
    "</div>"
   ]
  },
  {
   "cell_type": "code",
   "execution_count": null,
   "metadata": {
    "colab": {
     "base_uri": "https://localhost:8080/"
    },
    "id": "qXn92oRXOBoi",
    "outputId": "138222e6-de3c-45b0-ac30-f268c0618939"
   },
   "outputs": [
    {
     "name": "stdout",
     "output_type": "stream",
     "text": [
      "WHAT IS THE VALUE OF THE FUNCTION?\n",
      "None\n"
     ]
    }
   ],
   "source": [
    "print(print_upper_str(\"what is the value of the function?\"))"
   ]
  },
  {
   "cell_type": "markdown",
   "metadata": {
    "id": "NINF0MMSQtiu"
   },
   "source": [
    "<div dir=rtl>\n",
    "<h3>\n",
    "<b><i>\n",
    "פרמטרים וארגומנטים-\n",
    "</i></b>\n",
    "</h3>\n",
    "הרבה מתכנתים מתבלבלים אז כדי לישר קו: מבחינת טרמינולוגיה כשמדברים על פרמטרים מתכוונים לאילו ערכים הפונקציה מקבלת, בדוגמא למעלה הפונקציה מקבלת משתנה שקוראים לו string, וצריכה להיות לו פונקציה שקוראים לה upper (פייתון לא מחייבת לשלוח דווקא משתנה מטיפוס מחרוזת העיקר שיהיה לאובייקט את הפונקציה). \n",
    "כשמדברים על ארגומנטים מתכוונים לערך שאנחנו שולחים לפונקציה מתוך התוכנית, למשל בדוגמא למעלה הארגומנט שנשלח לפונקציה print_upper_str הוא המחרוזת :\"what is the value of the function\".\n",
    "כששולחים ארגומנטים לפונקציה, הפונקציה תקבל אותם לפי סדר הפרמטרים שכתובים בחתימתה, למשל:\n",
    "</div>"
   ]
  },
  {
   "cell_type": "code",
   "execution_count": null,
   "metadata": {
    "colab": {
     "base_uri": "https://localhost:8080/"
    },
    "id": "x8p4E8igRBF6",
    "outputId": "d1a7eabf-c13e-4eb0-e733-840c76894e1a"
   },
   "outputs": [
    {
     "name": "stdout",
     "output_type": "stream",
     "text": [
      "A is 12, B is 13, C is 14\n"
     ]
    }
   ],
   "source": [
    "def func(A ,B, C):\n",
    "  print(f'A is {A}, B is {B}, C is {C}') \n",
    "\n",
    "func(12 , 13, 14)\n"
   ]
  },
  {
   "cell_type": "code",
   "execution_count": 3,
   "metadata": {},
   "outputs": [],
   "source": [
    "from typing import List,Dict\n",
    "\n",
    "def print_names(names: List[str]) -> None:\n",
    "    for student in names:\n",
    "        print(student)\n",
    "\n",
    "\n",
    "def print_name_and_grade(grades: Dict[str, float]) -> None:\n",
    "    for student, grade in grades.items():\n",
    "        print(student, grade)"
   ]
  },
  {
   "cell_type": "code",
   "execution_count": 5,
   "metadata": {},
   "outputs": [
    {
     "output_type": "stream",
     "name": "stdout",
     "text": [
      "{'names': typing.List[str], 'return': None}\n{'grades': typing.Dict[str, float], 'return': None}\n"
     ]
    }
   ],
   "source": [
    "print(print_names.__annotations__)\n",
    "print(print_name_and_grade.__annotations__)"
   ]
  },
  {
   "cell_type": "code",
   "execution_count": 6,
   "metadata": {},
   "outputs": [],
   "source": [
    "from typing import List, Tuple\n",
    "\n",
    "\n",
    "# Declare a point type annotation using a tuple of ints of [x, y]\n",
    "Point = Tuple[int, int]\n",
    "\n",
    "\n",
    "# Create a function designed to take in a list of Points\n",
    "def print_points(points: List[Point]):\n",
    "    for point in points:\n",
    "        print(\"X:\", point[0], \"  Y:\", point[1])"
   ]
  },
  {
   "cell_type": "code",
   "execution_count": 7,
   "metadata": {},
   "outputs": [
    {
     "output_type": "stream",
     "name": "stdout",
     "text": [
      "{'grade': typing.Union[int, str]}\n"
     ]
    }
   ],
   "source": [
    "from typing import Union\n",
    "\n",
    "def print_grade(grade: Union[int, str]):\n",
    "    if isinstance(grade, str):\n",
    "        print(grade + ' percent')\n",
    "    else:\n",
    "        print(str(grade) + '%')\n",
    "\n",
    "print(print_grade.__annotations__)"
   ]
  },
  {
   "cell_type": "code",
   "execution_count": null,
   "metadata": {},
   "outputs": [],
   "source": []
  },
  {
   "cell_type": "code",
   "execution_count": 14,
   "metadata": {},
   "outputs": [
    {
     "output_type": "stream",
     "name": "stdout",
     "text": [
      "This is a function that returns a function:\n{'func': typing.Callable[[int], NoneType], 'return': typing.Callable[[NoneType], NoneType]}\n"
     ]
    }
   ],
   "source": [
    "from typing import Callable\n",
    "\n",
    "def decoration_function(func: Callable[[int],None])->Callable[[None],None]:\n",
    "    def wrapper()->None:\n",
    "        print(\"An example of a decoration function\")\n",
    "        func()\n",
    "    return wrapper\n",
    "\n",
    "print(\"This is a function that returns a function:\")\n",
    "print(decoration_function.__annotations__)\n",
    "\n"
   ]
  },
  {
   "cell_type": "code",
   "execution_count": 25,
   "metadata": {},
   "outputs": [
    {
     "output_type": "stream",
     "name": "stdout",
     "text": [
      "{'return': typing.Type[__main__.MyClass]}\n"
     ]
    }
   ],
   "source": [
    "from typing import Type\n",
    "\n",
    "class MyClass:\n",
    "    def __repr__():\n",
    "        return \"MyClass\"\n",
    "    pass\n",
    "\n",
    "MyClass=Type[MyClass]\n",
    "\n",
    "def my_class_function()-> MyClass:\n",
    "    return MyClass()\n",
    "\n",
    "def print_annotation():\n",
    "    print(my_class_function.__annotations__)\n",
    "\n",
    "print_annotation()\n",
    "\n"
   ]
  },
  {
   "cell_type": "code",
   "execution_count": null,
   "metadata": {},
   "outputs": [],
   "source": []
  }
 ],
 "metadata": {
  "colab": {
   "collapsed_sections": [],
   "name": "functions.ipynb",
   "provenance": []
  },
  "kernelspec": {
   "display_name": "Python 3",
   "language": "python",
   "name": "python3"
  },
  "language_info": {
   "codemirror_mode": {
    "name": "ipython",
    "version": 3
   },
   "file_extension": ".py",
   "mimetype": "text/x-python",
   "name": "python",
   "nbconvert_exporter": "python",
   "pygments_lexer": "ipython3",
   "version": "3.6.6-final"
  }
 },
 "nbformat": 4,
 "nbformat_minor": 1
}